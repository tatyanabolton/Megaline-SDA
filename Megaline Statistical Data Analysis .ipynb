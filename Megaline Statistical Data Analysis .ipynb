{
 "cells": [
  {
   "cell_type": "markdown",
   "id": "c2d3e100",
   "metadata": {},
   "source": [
    "# SDA project"
   ]
  },
  {
   "cell_type": "markdown",
   "id": "09c88907",
   "metadata": {},
   "source": [
    "### Introduction to the project\n",
    "The goal of this project is to analyze sample data from a telecom operator Megaline, the company offers its clients two prepaid plans, Surf and Ultimate. The commercial department wants to know which of the plans brings in more revenue in order to adjust the advertising budget."
   ]
  },
  {
   "cell_type": "markdown",
   "id": "d9d34a4a",
   "metadata": {},
   "source": [
    "### Step 1. Open the data file and study the general information\n",
    "Opening the data files and making sure they run correctly!\n"
   ]
  },
  {
   "cell_type": "code",
   "execution_count": 1,
   "id": "32a4b539",
   "metadata": {},
   "outputs": [],
   "source": [
    "import pandas as pd\n",
    "import matplotlib.pyplot as plt\n",
    "from matplotlib import pyplot as plt #I had to add this with the corrections\n",
    "import numpy as np\n",
    "# import seaborn as sb\n",
    "from scipy import stats as st \n",
    "from functools import reduce\n",
    "from scipy import stats\n",
    "\n",
    "%matplotlib inline\n"
   ]
  },
  {
   "cell_type": "code",
   "execution_count": 2,
   "id": "b49380b1",
   "metadata": {},
   "outputs": [
    {
     "name": "stdout",
     "output_type": "stream",
     "text": [
      "0.11.2\n"
     ]
    }
   ],
   "source": [
    "import seaborn as sns\n",
    "print(sns.__version__)"
   ]
  },
  {
   "cell_type": "code",
   "execution_count": 3,
   "id": "dc87b85f",
   "metadata": {},
   "outputs": [],
   "source": [
    "try:\n",
    "    calls_df = pd.read_csv('megaline_calls.csv')\n",
    "    internet_df = pd.read_csv('megaline_internet.csv')\n",
    "    messages_df = pd.read_csv('megaline_messages.csv')\n",
    "    plans_df =  pd.read_csv('megaline_plans.csv')\n",
    "    users_df = pd.read_csv('megaline_users1.csv')\n",
    "except:\n",
    "        print('cannot load files')\n"
   ]
  },
  {
   "cell_type": "markdown",
   "id": "e3c01c05",
   "metadata": {},
   "source": [
    "### Step 2. Prepare the data\n",
    "Preliminary data prep and exploration "
   ]
  },
  {
   "cell_type": "code",
   "execution_count": 4,
   "id": "de357a7d",
   "metadata": {},
   "outputs": [
    {
     "data": {
      "text/html": [
       "<div>\n",
       "<style scoped>\n",
       "    .dataframe tbody tr th:only-of-type {\n",
       "        vertical-align: middle;\n",
       "    }\n",
       "\n",
       "    .dataframe tbody tr th {\n",
       "        vertical-align: top;\n",
       "    }\n",
       "\n",
       "    .dataframe thead th {\n",
       "        text-align: right;\n",
       "    }\n",
       "</style>\n",
       "<table border=\"1\" class=\"dataframe\">\n",
       "  <thead>\n",
       "    <tr style=\"text-align: right;\">\n",
       "      <th></th>\n",
       "      <th>id</th>\n",
       "      <th>user_id</th>\n",
       "      <th>call_date</th>\n",
       "      <th>duration</th>\n",
       "    </tr>\n",
       "  </thead>\n",
       "  <tbody>\n",
       "    <tr>\n",
       "      <th>0</th>\n",
       "      <td>1000_93</td>\n",
       "      <td>1000</td>\n",
       "      <td>2018-12-27</td>\n",
       "      <td>8.52</td>\n",
       "    </tr>\n",
       "    <tr>\n",
       "      <th>1</th>\n",
       "      <td>1000_145</td>\n",
       "      <td>1000</td>\n",
       "      <td>2018-12-27</td>\n",
       "      <td>13.66</td>\n",
       "    </tr>\n",
       "    <tr>\n",
       "      <th>2</th>\n",
       "      <td>1000_247</td>\n",
       "      <td>1000</td>\n",
       "      <td>2018-12-27</td>\n",
       "      <td>14.48</td>\n",
       "    </tr>\n",
       "    <tr>\n",
       "      <th>3</th>\n",
       "      <td>1000_309</td>\n",
       "      <td>1000</td>\n",
       "      <td>2018-12-28</td>\n",
       "      <td>5.76</td>\n",
       "    </tr>\n",
       "    <tr>\n",
       "      <th>4</th>\n",
       "      <td>1000_380</td>\n",
       "      <td>1000</td>\n",
       "      <td>2018-12-30</td>\n",
       "      <td>4.22</td>\n",
       "    </tr>\n",
       "    <tr>\n",
       "      <th>...</th>\n",
       "      <td>...</td>\n",
       "      <td>...</td>\n",
       "      <td>...</td>\n",
       "      <td>...</td>\n",
       "    </tr>\n",
       "    <tr>\n",
       "      <th>137730</th>\n",
       "      <td>1499_199</td>\n",
       "      <td>1499</td>\n",
       "      <td>2018-11-21</td>\n",
       "      <td>8.72</td>\n",
       "    </tr>\n",
       "    <tr>\n",
       "      <th>137731</th>\n",
       "      <td>1499_200</td>\n",
       "      <td>1499</td>\n",
       "      <td>2018-10-20</td>\n",
       "      <td>10.89</td>\n",
       "    </tr>\n",
       "    <tr>\n",
       "      <th>137732</th>\n",
       "      <td>1499_201</td>\n",
       "      <td>1499</td>\n",
       "      <td>2018-09-21</td>\n",
       "      <td>8.12</td>\n",
       "    </tr>\n",
       "    <tr>\n",
       "      <th>137733</th>\n",
       "      <td>1499_202</td>\n",
       "      <td>1499</td>\n",
       "      <td>2018-10-10</td>\n",
       "      <td>0.37</td>\n",
       "    </tr>\n",
       "    <tr>\n",
       "      <th>137734</th>\n",
       "      <td>1499_203</td>\n",
       "      <td>1499</td>\n",
       "      <td>2018-12-29</td>\n",
       "      <td>13.86</td>\n",
       "    </tr>\n",
       "  </tbody>\n",
       "</table>\n",
       "<p>137735 rows × 4 columns</p>\n",
       "</div>"
      ],
      "text/plain": [
       "              id  user_id   call_date  duration\n",
       "0        1000_93     1000  2018-12-27      8.52\n",
       "1       1000_145     1000  2018-12-27     13.66\n",
       "2       1000_247     1000  2018-12-27     14.48\n",
       "3       1000_309     1000  2018-12-28      5.76\n",
       "4       1000_380     1000  2018-12-30      4.22\n",
       "...          ...      ...         ...       ...\n",
       "137730  1499_199     1499  2018-11-21      8.72\n",
       "137731  1499_200     1499  2018-10-20     10.89\n",
       "137732  1499_201     1499  2018-09-21      8.12\n",
       "137733  1499_202     1499  2018-10-10      0.37\n",
       "137734  1499_203     1499  2018-12-29     13.86\n",
       "\n",
       "[137735 rows x 4 columns]"
      ]
     },
     "execution_count": 4,
     "metadata": {},
     "output_type": "execute_result"
    }
   ],
   "source": [
    "calls_df"
   ]
  },
  {
   "cell_type": "code",
   "execution_count": 5,
   "id": "8dafd959",
   "metadata": {},
   "outputs": [
    {
     "name": "stdout",
     "output_type": "stream",
     "text": [
      "137735\n"
     ]
    },
    {
     "data": {
      "text/html": [
       "<div>\n",
       "<style scoped>\n",
       "    .dataframe tbody tr th:only-of-type {\n",
       "        vertical-align: middle;\n",
       "    }\n",
       "\n",
       "    .dataframe tbody tr th {\n",
       "        vertical-align: top;\n",
       "    }\n",
       "\n",
       "    .dataframe thead th {\n",
       "        text-align: right;\n",
       "    }\n",
       "</style>\n",
       "<table border=\"1\" class=\"dataframe\">\n",
       "  <thead>\n",
       "    <tr style=\"text-align: right;\">\n",
       "      <th></th>\n",
       "      <th>id</th>\n",
       "      <th>user_id</th>\n",
       "      <th>call_date</th>\n",
       "      <th>duration</th>\n",
       "    </tr>\n",
       "  </thead>\n",
       "  <tbody>\n",
       "    <tr>\n",
       "      <th>0</th>\n",
       "      <td>1000_93</td>\n",
       "      <td>1000</td>\n",
       "      <td>2018-12-27</td>\n",
       "      <td>8.52</td>\n",
       "    </tr>\n",
       "    <tr>\n",
       "      <th>1</th>\n",
       "      <td>1000_145</td>\n",
       "      <td>1000</td>\n",
       "      <td>2018-12-27</td>\n",
       "      <td>13.66</td>\n",
       "    </tr>\n",
       "    <tr>\n",
       "      <th>2</th>\n",
       "      <td>1000_247</td>\n",
       "      <td>1000</td>\n",
       "      <td>2018-12-27</td>\n",
       "      <td>14.48</td>\n",
       "    </tr>\n",
       "    <tr>\n",
       "      <th>3</th>\n",
       "      <td>1000_309</td>\n",
       "      <td>1000</td>\n",
       "      <td>2018-12-28</td>\n",
       "      <td>5.76</td>\n",
       "    </tr>\n",
       "    <tr>\n",
       "      <th>4</th>\n",
       "      <td>1000_380</td>\n",
       "      <td>1000</td>\n",
       "      <td>2018-12-30</td>\n",
       "      <td>4.22</td>\n",
       "    </tr>\n",
       "  </tbody>\n",
       "</table>\n",
       "</div>"
      ],
      "text/plain": [
       "         id  user_id   call_date  duration\n",
       "0   1000_93     1000  2018-12-27      8.52\n",
       "1  1000_145     1000  2018-12-27     13.66\n",
       "2  1000_247     1000  2018-12-27     14.48\n",
       "3  1000_309     1000  2018-12-28      5.76\n",
       "4  1000_380     1000  2018-12-30      4.22"
      ]
     },
     "execution_count": 5,
     "metadata": {},
     "output_type": "execute_result"
    }
   ],
   "source": [
    "print(len(calls_df))\n",
    "calls_df.head() "
   ]
  },
  {
   "cell_type": "code",
   "execution_count": 6,
   "id": "715bc47e",
   "metadata": {},
   "outputs": [
    {
     "name": "stdout",
     "output_type": "stream",
     "text": [
      "<class 'pandas.core.frame.DataFrame'>\n",
      "RangeIndex: 137735 entries, 0 to 137734\n",
      "Data columns (total 4 columns):\n",
      " #   Column     Non-Null Count   Dtype  \n",
      "---  ------     --------------   -----  \n",
      " 0   id         137735 non-null  object \n",
      " 1   user_id    137735 non-null  int64  \n",
      " 2   call_date  137735 non-null  object \n",
      " 3   duration   137735 non-null  float64\n",
      "dtypes: float64(1), int64(1), object(2)\n",
      "memory usage: 4.2+ MB\n"
     ]
    }
   ],
   "source": [
    "calls_df.info()"
   ]
  },
  {
   "cell_type": "code",
   "execution_count": 7,
   "id": "42c820fc",
   "metadata": {},
   "outputs": [
    {
     "data": {
      "text/html": [
       "<div>\n",
       "<style scoped>\n",
       "    .dataframe tbody tr th:only-of-type {\n",
       "        vertical-align: middle;\n",
       "    }\n",
       "\n",
       "    .dataframe tbody tr th {\n",
       "        vertical-align: top;\n",
       "    }\n",
       "\n",
       "    .dataframe thead th {\n",
       "        text-align: right;\n",
       "    }\n",
       "</style>\n",
       "<table border=\"1\" class=\"dataframe\">\n",
       "  <thead>\n",
       "    <tr style=\"text-align: right;\">\n",
       "      <th></th>\n",
       "      <th>id</th>\n",
       "      <th>user_id</th>\n",
       "      <th>session_date</th>\n",
       "      <th>mb_used</th>\n",
       "    </tr>\n",
       "  </thead>\n",
       "  <tbody>\n",
       "    <tr>\n",
       "      <th>0</th>\n",
       "      <td>1000_13</td>\n",
       "      <td>1000</td>\n",
       "      <td>2018-12-29</td>\n",
       "      <td>89.86</td>\n",
       "    </tr>\n",
       "    <tr>\n",
       "      <th>1</th>\n",
       "      <td>1000_204</td>\n",
       "      <td>1000</td>\n",
       "      <td>2018-12-31</td>\n",
       "      <td>0.00</td>\n",
       "    </tr>\n",
       "    <tr>\n",
       "      <th>2</th>\n",
       "      <td>1000_379</td>\n",
       "      <td>1000</td>\n",
       "      <td>2018-12-28</td>\n",
       "      <td>660.40</td>\n",
       "    </tr>\n",
       "    <tr>\n",
       "      <th>3</th>\n",
       "      <td>1000_413</td>\n",
       "      <td>1000</td>\n",
       "      <td>2018-12-26</td>\n",
       "      <td>270.99</td>\n",
       "    </tr>\n",
       "    <tr>\n",
       "      <th>4</th>\n",
       "      <td>1000_442</td>\n",
       "      <td>1000</td>\n",
       "      <td>2018-12-27</td>\n",
       "      <td>880.22</td>\n",
       "    </tr>\n",
       "  </tbody>\n",
       "</table>\n",
       "</div>"
      ],
      "text/plain": [
       "         id  user_id session_date  mb_used\n",
       "0   1000_13     1000   2018-12-29    89.86\n",
       "1  1000_204     1000   2018-12-31     0.00\n",
       "2  1000_379     1000   2018-12-28   660.40\n",
       "3  1000_413     1000   2018-12-26   270.99\n",
       "4  1000_442     1000   2018-12-27   880.22"
      ]
     },
     "execution_count": 7,
     "metadata": {},
     "output_type": "execute_result"
    }
   ],
   "source": [
    "internet_df.head()"
   ]
  },
  {
   "cell_type": "code",
   "execution_count": 8,
   "id": "a038ae65",
   "metadata": {},
   "outputs": [
    {
     "name": "stdout",
     "output_type": "stream",
     "text": [
      "<class 'pandas.core.frame.DataFrame'>\n",
      "RangeIndex: 104825 entries, 0 to 104824\n",
      "Data columns (total 4 columns):\n",
      " #   Column        Non-Null Count   Dtype  \n",
      "---  ------        --------------   -----  \n",
      " 0   id            104825 non-null  object \n",
      " 1   user_id       104825 non-null  int64  \n",
      " 2   session_date  104825 non-null  object \n",
      " 3   mb_used       104825 non-null  float64\n",
      "dtypes: float64(1), int64(1), object(2)\n",
      "memory usage: 3.2+ MB\n"
     ]
    }
   ],
   "source": [
    "internet_df.info()"
   ]
  },
  {
   "cell_type": "code",
   "execution_count": 9,
   "id": "56f41eeb",
   "metadata": {},
   "outputs": [
    {
     "data": {
      "text/html": [
       "<div>\n",
       "<style scoped>\n",
       "    .dataframe tbody tr th:only-of-type {\n",
       "        vertical-align: middle;\n",
       "    }\n",
       "\n",
       "    .dataframe tbody tr th {\n",
       "        vertical-align: top;\n",
       "    }\n",
       "\n",
       "    .dataframe thead th {\n",
       "        text-align: right;\n",
       "    }\n",
       "</style>\n",
       "<table border=\"1\" class=\"dataframe\">\n",
       "  <thead>\n",
       "    <tr style=\"text-align: right;\">\n",
       "      <th></th>\n",
       "      <th>id</th>\n",
       "      <th>user_id</th>\n",
       "      <th>message_date</th>\n",
       "    </tr>\n",
       "  </thead>\n",
       "  <tbody>\n",
       "    <tr>\n",
       "      <th>0</th>\n",
       "      <td>1000_125</td>\n",
       "      <td>1000</td>\n",
       "      <td>2018-12-27</td>\n",
       "    </tr>\n",
       "    <tr>\n",
       "      <th>1</th>\n",
       "      <td>1000_160</td>\n",
       "      <td>1000</td>\n",
       "      <td>2018-12-31</td>\n",
       "    </tr>\n",
       "    <tr>\n",
       "      <th>2</th>\n",
       "      <td>1000_223</td>\n",
       "      <td>1000</td>\n",
       "      <td>2018-12-31</td>\n",
       "    </tr>\n",
       "    <tr>\n",
       "      <th>3</th>\n",
       "      <td>1000_251</td>\n",
       "      <td>1000</td>\n",
       "      <td>2018-12-27</td>\n",
       "    </tr>\n",
       "    <tr>\n",
       "      <th>4</th>\n",
       "      <td>1000_255</td>\n",
       "      <td>1000</td>\n",
       "      <td>2018-12-26</td>\n",
       "    </tr>\n",
       "  </tbody>\n",
       "</table>\n",
       "</div>"
      ],
      "text/plain": [
       "         id  user_id message_date\n",
       "0  1000_125     1000   2018-12-27\n",
       "1  1000_160     1000   2018-12-31\n",
       "2  1000_223     1000   2018-12-31\n",
       "3  1000_251     1000   2018-12-27\n",
       "4  1000_255     1000   2018-12-26"
      ]
     },
     "execution_count": 9,
     "metadata": {},
     "output_type": "execute_result"
    }
   ],
   "source": [
    "messages_df.head()"
   ]
  },
  {
   "cell_type": "code",
   "execution_count": 10,
   "id": "f62432dd",
   "metadata": {},
   "outputs": [
    {
     "name": "stdout",
     "output_type": "stream",
     "text": [
      "<class 'pandas.core.frame.DataFrame'>\n",
      "RangeIndex: 76051 entries, 0 to 76050\n",
      "Data columns (total 3 columns):\n",
      " #   Column        Non-Null Count  Dtype \n",
      "---  ------        --------------  ----- \n",
      " 0   id            76051 non-null  object\n",
      " 1   user_id       76051 non-null  int64 \n",
      " 2   message_date  76051 non-null  object\n",
      "dtypes: int64(1), object(2)\n",
      "memory usage: 1.7+ MB\n"
     ]
    }
   ],
   "source": [
    "messages_df.info()"
   ]
  },
  {
   "cell_type": "code",
   "execution_count": 11,
   "id": "f1bd02d3",
   "metadata": {},
   "outputs": [],
   "source": [
    "messages_df=messages_df.rename(columns={'id': 'messages'}) #renaming a column"
   ]
  },
  {
   "cell_type": "code",
   "execution_count": 12,
   "id": "e0de3707",
   "metadata": {},
   "outputs": [
    {
     "data": {
      "text/html": [
       "<div>\n",
       "<style scoped>\n",
       "    .dataframe tbody tr th:only-of-type {\n",
       "        vertical-align: middle;\n",
       "    }\n",
       "\n",
       "    .dataframe tbody tr th {\n",
       "        vertical-align: top;\n",
       "    }\n",
       "\n",
       "    .dataframe thead th {\n",
       "        text-align: right;\n",
       "    }\n",
       "</style>\n",
       "<table border=\"1\" class=\"dataframe\">\n",
       "  <thead>\n",
       "    <tr style=\"text-align: right;\">\n",
       "      <th></th>\n",
       "      <th>messages</th>\n",
       "      <th>user_id</th>\n",
       "      <th>message_date</th>\n",
       "    </tr>\n",
       "  </thead>\n",
       "  <tbody>\n",
       "    <tr>\n",
       "      <th>0</th>\n",
       "      <td>1000_125</td>\n",
       "      <td>1000</td>\n",
       "      <td>2018-12-27</td>\n",
       "    </tr>\n",
       "    <tr>\n",
       "      <th>1</th>\n",
       "      <td>1000_160</td>\n",
       "      <td>1000</td>\n",
       "      <td>2018-12-31</td>\n",
       "    </tr>\n",
       "    <tr>\n",
       "      <th>2</th>\n",
       "      <td>1000_223</td>\n",
       "      <td>1000</td>\n",
       "      <td>2018-12-31</td>\n",
       "    </tr>\n",
       "    <tr>\n",
       "      <th>3</th>\n",
       "      <td>1000_251</td>\n",
       "      <td>1000</td>\n",
       "      <td>2018-12-27</td>\n",
       "    </tr>\n",
       "    <tr>\n",
       "      <th>4</th>\n",
       "      <td>1000_255</td>\n",
       "      <td>1000</td>\n",
       "      <td>2018-12-26</td>\n",
       "    </tr>\n",
       "  </tbody>\n",
       "</table>\n",
       "</div>"
      ],
      "text/plain": [
       "   messages  user_id message_date\n",
       "0  1000_125     1000   2018-12-27\n",
       "1  1000_160     1000   2018-12-31\n",
       "2  1000_223     1000   2018-12-31\n",
       "3  1000_251     1000   2018-12-27\n",
       "4  1000_255     1000   2018-12-26"
      ]
     },
     "execution_count": 12,
     "metadata": {},
     "output_type": "execute_result"
    }
   ],
   "source": [
    "messages_df.head()"
   ]
  },
  {
   "cell_type": "code",
   "execution_count": 13,
   "id": "9b67fd80",
   "metadata": {},
   "outputs": [],
   "source": [
    "#sum(messages_df['message_date']==0)"
   ]
  },
  {
   "cell_type": "code",
   "execution_count": 14,
   "id": "6073997b",
   "metadata": {},
   "outputs": [
    {
     "data": {
      "text/html": [
       "<div>\n",
       "<style scoped>\n",
       "    .dataframe tbody tr th:only-of-type {\n",
       "        vertical-align: middle;\n",
       "    }\n",
       "\n",
       "    .dataframe tbody tr th {\n",
       "        vertical-align: top;\n",
       "    }\n",
       "\n",
       "    .dataframe thead th {\n",
       "        text-align: right;\n",
       "    }\n",
       "</style>\n",
       "<table border=\"1\" class=\"dataframe\">\n",
       "  <thead>\n",
       "    <tr style=\"text-align: right;\">\n",
       "      <th></th>\n",
       "      <th>messages_included</th>\n",
       "      <th>mb_per_month_included</th>\n",
       "      <th>minutes_included</th>\n",
       "      <th>usd_monthly_pay</th>\n",
       "      <th>usd_per_gb</th>\n",
       "      <th>usd_per_message</th>\n",
       "      <th>usd_per_minute</th>\n",
       "      <th>plan_name</th>\n",
       "    </tr>\n",
       "  </thead>\n",
       "  <tbody>\n",
       "    <tr>\n",
       "      <th>0</th>\n",
       "      <td>50</td>\n",
       "      <td>15360</td>\n",
       "      <td>500</td>\n",
       "      <td>20</td>\n",
       "      <td>10</td>\n",
       "      <td>0.03</td>\n",
       "      <td>0.03</td>\n",
       "      <td>surf</td>\n",
       "    </tr>\n",
       "    <tr>\n",
       "      <th>1</th>\n",
       "      <td>1000</td>\n",
       "      <td>30720</td>\n",
       "      <td>3000</td>\n",
       "      <td>70</td>\n",
       "      <td>7</td>\n",
       "      <td>0.01</td>\n",
       "      <td>0.01</td>\n",
       "      <td>ultimate</td>\n",
       "    </tr>\n",
       "  </tbody>\n",
       "</table>\n",
       "</div>"
      ],
      "text/plain": [
       "   messages_included  mb_per_month_included  minutes_included  \\\n",
       "0                 50                  15360               500   \n",
       "1               1000                  30720              3000   \n",
       "\n",
       "   usd_monthly_pay  usd_per_gb  usd_per_message  usd_per_minute plan_name  \n",
       "0               20          10             0.03            0.03      surf  \n",
       "1               70           7             0.01            0.01  ultimate  "
      ]
     },
     "execution_count": 14,
     "metadata": {},
     "output_type": "execute_result"
    }
   ],
   "source": [
    "plans_df.head()"
   ]
  },
  {
   "cell_type": "code",
   "execution_count": 15,
   "id": "bd5e5ddf",
   "metadata": {},
   "outputs": [
    {
     "data": {
      "text/html": [
       "<div>\n",
       "<style scoped>\n",
       "    .dataframe tbody tr th:only-of-type {\n",
       "        vertical-align: middle;\n",
       "    }\n",
       "\n",
       "    .dataframe tbody tr th {\n",
       "        vertical-align: top;\n",
       "    }\n",
       "\n",
       "    .dataframe thead th {\n",
       "        text-align: right;\n",
       "    }\n",
       "</style>\n",
       "<table border=\"1\" class=\"dataframe\">\n",
       "  <thead>\n",
       "    <tr style=\"text-align: right;\">\n",
       "      <th></th>\n",
       "      <th>user_id</th>\n",
       "      <th>first_name</th>\n",
       "      <th>last_name</th>\n",
       "      <th>age</th>\n",
       "      <th>city</th>\n",
       "      <th>reg_date</th>\n",
       "      <th>tariff</th>\n",
       "      <th>churn_date</th>\n",
       "    </tr>\n",
       "  </thead>\n",
       "  <tbody>\n",
       "    <tr>\n",
       "      <th>0</th>\n",
       "      <td>1000</td>\n",
       "      <td>Anamaria</td>\n",
       "      <td>Bauer</td>\n",
       "      <td>45</td>\n",
       "      <td>Atlanta-Sandy Springs-Roswell, GA MSA</td>\n",
       "      <td>2018-12-24</td>\n",
       "      <td>ultimate</td>\n",
       "      <td>NaN</td>\n",
       "    </tr>\n",
       "    <tr>\n",
       "      <th>1</th>\n",
       "      <td>1001</td>\n",
       "      <td>Mickey</td>\n",
       "      <td>Wilkerson</td>\n",
       "      <td>28</td>\n",
       "      <td>Seattle-Tacoma-Bellevue, WA MSA</td>\n",
       "      <td>2018-08-13</td>\n",
       "      <td>surf</td>\n",
       "      <td>NaN</td>\n",
       "    </tr>\n",
       "    <tr>\n",
       "      <th>2</th>\n",
       "      <td>1002</td>\n",
       "      <td>Carlee</td>\n",
       "      <td>Hoffman</td>\n",
       "      <td>36</td>\n",
       "      <td>Las Vegas-Henderson-Paradise, NV MSA</td>\n",
       "      <td>2018-10-21</td>\n",
       "      <td>surf</td>\n",
       "      <td>NaN</td>\n",
       "    </tr>\n",
       "    <tr>\n",
       "      <th>3</th>\n",
       "      <td>1003</td>\n",
       "      <td>Reynaldo</td>\n",
       "      <td>Jenkins</td>\n",
       "      <td>52</td>\n",
       "      <td>Tulsa, OK MSA</td>\n",
       "      <td>2018-01-28</td>\n",
       "      <td>surf</td>\n",
       "      <td>NaN</td>\n",
       "    </tr>\n",
       "    <tr>\n",
       "      <th>4</th>\n",
       "      <td>1004</td>\n",
       "      <td>Leonila</td>\n",
       "      <td>Thompson</td>\n",
       "      <td>40</td>\n",
       "      <td>Seattle-Tacoma-Bellevue, WA MSA</td>\n",
       "      <td>2018-05-23</td>\n",
       "      <td>surf</td>\n",
       "      <td>NaN</td>\n",
       "    </tr>\n",
       "  </tbody>\n",
       "</table>\n",
       "</div>"
      ],
      "text/plain": [
       "   user_id first_name  last_name  age                                   city  \\\n",
       "0     1000   Anamaria      Bauer   45  Atlanta-Sandy Springs-Roswell, GA MSA   \n",
       "1     1001     Mickey  Wilkerson   28        Seattle-Tacoma-Bellevue, WA MSA   \n",
       "2     1002     Carlee    Hoffman   36   Las Vegas-Henderson-Paradise, NV MSA   \n",
       "3     1003   Reynaldo    Jenkins   52                          Tulsa, OK MSA   \n",
       "4     1004    Leonila   Thompson   40        Seattle-Tacoma-Bellevue, WA MSA   \n",
       "\n",
       "     reg_date    tariff churn_date  \n",
       "0  2018-12-24  ultimate        NaN  \n",
       "1  2018-08-13      surf        NaN  \n",
       "2  2018-10-21      surf        NaN  \n",
       "3  2018-01-28      surf        NaN  \n",
       "4  2018-05-23      surf        NaN  "
      ]
     },
     "execution_count": 15,
     "metadata": {},
     "output_type": "execute_result"
    }
   ],
   "source": [
    "users_df.head()"
   ]
  },
  {
   "cell_type": "markdown",
   "id": "0bf2743b",
   "metadata": {},
   "source": [
    "#### preparing the column for further calculations"
   ]
  },
  {
   "cell_type": "code",
   "execution_count": 16,
   "id": "0a74efb7",
   "metadata": {},
   "outputs": [
    {
     "data": {
      "text/plain": [
       "0     9.0\n",
       "1    14.0\n",
       "2    15.0\n",
       "Name: duration, dtype: float64"
      ]
     },
     "execution_count": 16,
     "metadata": {},
     "output_type": "execute_result"
    }
   ],
   "source": [
    "#calls_df['duration'] = calls_df['duration'].round(decimals = 0) #rounding up the values before grouping\n",
    "\n",
    "calls_df['duration']=calls_df['duration'].apply(np.ceil)\n",
    "calls_df['duration'].head(3)"
   ]
  },
  {
   "cell_type": "code",
   "execution_count": 17,
   "id": "b4a0fdde",
   "metadata": {},
   "outputs": [],
   "source": [
    "calls_df['call_date'] = pd.to_datetime(calls_df.call_date) #converting to datetime"
   ]
  },
  {
   "cell_type": "code",
   "execution_count": 18,
   "id": "cb51c3b4",
   "metadata": {},
   "outputs": [],
   "source": [
    "calls_df['month'] = calls_df['call_date'].dt.month #adding month column"
   ]
  },
  {
   "cell_type": "code",
   "execution_count": 19,
   "id": "6086a4e7",
   "metadata": {},
   "outputs": [
    {
     "data": {
      "text/html": [
       "<div>\n",
       "<style scoped>\n",
       "    .dataframe tbody tr th:only-of-type {\n",
       "        vertical-align: middle;\n",
       "    }\n",
       "\n",
       "    .dataframe tbody tr th {\n",
       "        vertical-align: top;\n",
       "    }\n",
       "\n",
       "    .dataframe thead th {\n",
       "        text-align: right;\n",
       "    }\n",
       "</style>\n",
       "<table border=\"1\" class=\"dataframe\">\n",
       "  <thead>\n",
       "    <tr style=\"text-align: right;\">\n",
       "      <th></th>\n",
       "      <th>id</th>\n",
       "      <th>user_id</th>\n",
       "      <th>call_date</th>\n",
       "      <th>duration</th>\n",
       "      <th>month</th>\n",
       "    </tr>\n",
       "  </thead>\n",
       "  <tbody>\n",
       "    <tr>\n",
       "      <th>0</th>\n",
       "      <td>1000_93</td>\n",
       "      <td>1000</td>\n",
       "      <td>2018-12-27</td>\n",
       "      <td>9.0</td>\n",
       "      <td>12</td>\n",
       "    </tr>\n",
       "    <tr>\n",
       "      <th>1</th>\n",
       "      <td>1000_145</td>\n",
       "      <td>1000</td>\n",
       "      <td>2018-12-27</td>\n",
       "      <td>14.0</td>\n",
       "      <td>12</td>\n",
       "    </tr>\n",
       "    <tr>\n",
       "      <th>2</th>\n",
       "      <td>1000_247</td>\n",
       "      <td>1000</td>\n",
       "      <td>2018-12-27</td>\n",
       "      <td>15.0</td>\n",
       "      <td>12</td>\n",
       "    </tr>\n",
       "    <tr>\n",
       "      <th>3</th>\n",
       "      <td>1000_309</td>\n",
       "      <td>1000</td>\n",
       "      <td>2018-12-28</td>\n",
       "      <td>6.0</td>\n",
       "      <td>12</td>\n",
       "    </tr>\n",
       "    <tr>\n",
       "      <th>4</th>\n",
       "      <td>1000_380</td>\n",
       "      <td>1000</td>\n",
       "      <td>2018-12-30</td>\n",
       "      <td>5.0</td>\n",
       "      <td>12</td>\n",
       "    </tr>\n",
       "  </tbody>\n",
       "</table>\n",
       "</div>"
      ],
      "text/plain": [
       "         id  user_id  call_date  duration  month\n",
       "0   1000_93     1000 2018-12-27       9.0     12\n",
       "1  1000_145     1000 2018-12-27      14.0     12\n",
       "2  1000_247     1000 2018-12-27      15.0     12\n",
       "3  1000_309     1000 2018-12-28       6.0     12\n",
       "4  1000_380     1000 2018-12-30       5.0     12"
      ]
     },
     "execution_count": 19,
     "metadata": {},
     "output_type": "execute_result"
    }
   ],
   "source": [
    "calls_df.head()"
   ]
  },
  {
   "cell_type": "code",
   "execution_count": 20,
   "id": "79581c45",
   "metadata": {},
   "outputs": [],
   "source": [
    "df_calls_per_user = calls_df.groupby(['user_id', 'month'])['duration'].sum()  #grouping per month\n",
    "df_calls_per_user=df_calls_per_user.to_frame()"
   ]
  },
  {
   "cell_type": "code",
   "execution_count": 21,
   "id": "2d7f934e",
   "metadata": {},
   "outputs": [
    {
     "data": {
      "text/html": [
       "<div>\n",
       "<style scoped>\n",
       "    .dataframe tbody tr th:only-of-type {\n",
       "        vertical-align: middle;\n",
       "    }\n",
       "\n",
       "    .dataframe tbody tr th {\n",
       "        vertical-align: top;\n",
       "    }\n",
       "\n",
       "    .dataframe thead th {\n",
       "        text-align: right;\n",
       "    }\n",
       "</style>\n",
       "<table border=\"1\" class=\"dataframe\">\n",
       "  <thead>\n",
       "    <tr style=\"text-align: right;\">\n",
       "      <th></th>\n",
       "      <th></th>\n",
       "      <th>duration</th>\n",
       "    </tr>\n",
       "    <tr>\n",
       "      <th>user_id</th>\n",
       "      <th>month</th>\n",
       "      <th></th>\n",
       "    </tr>\n",
       "  </thead>\n",
       "  <tbody>\n",
       "    <tr>\n",
       "      <th>1000</th>\n",
       "      <th>12</th>\n",
       "      <td>124.0</td>\n",
       "    </tr>\n",
       "    <tr>\n",
       "      <th>1001</th>\n",
       "      <th>8</th>\n",
       "      <td>182.0</td>\n",
       "    </tr>\n",
       "  </tbody>\n",
       "</table>\n",
       "</div>"
      ],
      "text/plain": [
       "               duration\n",
       "user_id month          \n",
       "1000    12        124.0\n",
       "1001    8         182.0"
      ]
     },
     "execution_count": 21,
     "metadata": {},
     "output_type": "execute_result"
    }
   ],
   "source": [
    "df_calls_per_user.head(2)"
   ]
  },
  {
   "cell_type": "code",
   "execution_count": 22,
   "id": "0bb49079",
   "metadata": {},
   "outputs": [],
   "source": [
    "internet_df['session_date'] = pd.to_datetime(internet_df.session_date) #converting to datetime"
   ]
  },
  {
   "cell_type": "code",
   "execution_count": 23,
   "id": "06c8c29f",
   "metadata": {},
   "outputs": [],
   "source": [
    "internet_df['month'] = internet_df['session_date'].dt.month #adding month column"
   ]
  },
  {
   "cell_type": "code",
   "execution_count": 24,
   "id": "ed15bdbf",
   "metadata": {},
   "outputs": [],
   "source": [
    "df_data_per_user = internet_df.groupby(['user_id', 'month'])['mb_used'].sum() #grouping per month\n",
    "#df_data_per_user = df_data_per_user.to_frame()"
   ]
  },
  {
   "cell_type": "code",
   "execution_count": 25,
   "id": "e7f38daf",
   "metadata": {},
   "outputs": [],
   "source": [
    "df_data_per_user=df_data_per_user / 1024 #converting to gb "
   ]
  },
  {
   "cell_type": "code",
   "execution_count": 26,
   "id": "a6674b9f",
   "metadata": {},
   "outputs": [],
   "source": [
    "df_data_per_user=df_data_per_user.round(decimals = 0) #rounding up!"
   ]
  },
  {
   "cell_type": "code",
   "execution_count": 27,
   "id": "97059ac9",
   "metadata": {},
   "outputs": [],
   "source": [
    "messages_df['message_date'] = pd.to_datetime(messages_df.message_date) #converting to datetime"
   ]
  },
  {
   "cell_type": "code",
   "execution_count": 28,
   "id": "824f0537",
   "metadata": {},
   "outputs": [],
   "source": [
    "messages_df['month'] = messages_df['message_date'].dt.month #adding month column"
   ]
  },
  {
   "cell_type": "code",
   "execution_count": 29,
   "id": "148983f2",
   "metadata": {},
   "outputs": [],
   "source": [
    "df_sms_per_user = messages_df.groupby(['user_id', 'month'])['messages'].count()  #grouping per month\n",
    "df_sms_per_user=df_sms_per_user.to_frame()\n"
   ]
  },
  {
   "cell_type": "code",
   "execution_count": 30,
   "id": "8844c784",
   "metadata": {},
   "outputs": [
    {
     "data": {
      "text/html": [
       "<div>\n",
       "<style scoped>\n",
       "    .dataframe tbody tr th:only-of-type {\n",
       "        vertical-align: middle;\n",
       "    }\n",
       "\n",
       "    .dataframe tbody tr th {\n",
       "        vertical-align: top;\n",
       "    }\n",
       "\n",
       "    .dataframe thead th {\n",
       "        text-align: right;\n",
       "    }\n",
       "</style>\n",
       "<table border=\"1\" class=\"dataframe\">\n",
       "  <thead>\n",
       "    <tr style=\"text-align: right;\">\n",
       "      <th></th>\n",
       "      <th></th>\n",
       "      <th>messages</th>\n",
       "    </tr>\n",
       "    <tr>\n",
       "      <th>user_id</th>\n",
       "      <th>month</th>\n",
       "      <th></th>\n",
       "    </tr>\n",
       "  </thead>\n",
       "  <tbody>\n",
       "    <tr>\n",
       "      <th>1000</th>\n",
       "      <th>12</th>\n",
       "      <td>11</td>\n",
       "    </tr>\n",
       "    <tr>\n",
       "      <th rowspan=\"2\" valign=\"top\">1001</th>\n",
       "      <th>8</th>\n",
       "      <td>30</td>\n",
       "    </tr>\n",
       "    <tr>\n",
       "      <th>9</th>\n",
       "      <td>44</td>\n",
       "    </tr>\n",
       "  </tbody>\n",
       "</table>\n",
       "</div>"
      ],
      "text/plain": [
       "               messages\n",
       "user_id month          \n",
       "1000    12           11\n",
       "1001    8            30\n",
       "        9            44"
      ]
     },
     "execution_count": 30,
     "metadata": {},
     "output_type": "execute_result"
    }
   ],
   "source": [
    "df_sms_per_user.head(3) #checking if this works "
   ]
  },
  {
   "cell_type": "code",
   "execution_count": 31,
   "id": "15c00279",
   "metadata": {},
   "outputs": [],
   "source": [
    "data_frames = [df_calls_per_user, df_data_per_user, df_sms_per_user]\n",
    "\n",
    "df_merged = reduce(lambda left,right: pd.merge(left,right,on=['user_id','month'], how='outer'), data_frames)"
   ]
  },
  {
   "cell_type": "code",
   "execution_count": 32,
   "id": "a462d446",
   "metadata": {},
   "outputs": [
    {
     "name": "stdout",
     "output_type": "stream",
     "text": [
      "2293\n"
     ]
    },
    {
     "data": {
      "text/html": [
       "<div>\n",
       "<style scoped>\n",
       "    .dataframe tbody tr th:only-of-type {\n",
       "        vertical-align: middle;\n",
       "    }\n",
       "\n",
       "    .dataframe tbody tr th {\n",
       "        vertical-align: top;\n",
       "    }\n",
       "\n",
       "    .dataframe thead th {\n",
       "        text-align: right;\n",
       "    }\n",
       "</style>\n",
       "<table border=\"1\" class=\"dataframe\">\n",
       "  <thead>\n",
       "    <tr style=\"text-align: right;\">\n",
       "      <th></th>\n",
       "      <th>user_id</th>\n",
       "      <th>month</th>\n",
       "      <th>duration</th>\n",
       "      <th>mb_used</th>\n",
       "      <th>messages</th>\n",
       "    </tr>\n",
       "  </thead>\n",
       "  <tbody>\n",
       "    <tr>\n",
       "      <th>0</th>\n",
       "      <td>1000</td>\n",
       "      <td>12</td>\n",
       "      <td>124.0</td>\n",
       "      <td>2.0</td>\n",
       "      <td>11.0</td>\n",
       "    </tr>\n",
       "    <tr>\n",
       "      <th>1</th>\n",
       "      <td>1001</td>\n",
       "      <td>8</td>\n",
       "      <td>182.0</td>\n",
       "      <td>7.0</td>\n",
       "      <td>30.0</td>\n",
       "    </tr>\n",
       "    <tr>\n",
       "      <th>2</th>\n",
       "      <td>1001</td>\n",
       "      <td>9</td>\n",
       "      <td>315.0</td>\n",
       "      <td>13.0</td>\n",
       "      <td>44.0</td>\n",
       "    </tr>\n",
       "    <tr>\n",
       "      <th>3</th>\n",
       "      <td>1001</td>\n",
       "      <td>10</td>\n",
       "      <td>393.0</td>\n",
       "      <td>22.0</td>\n",
       "      <td>53.0</td>\n",
       "    </tr>\n",
       "    <tr>\n",
       "      <th>4</th>\n",
       "      <td>1001</td>\n",
       "      <td>11</td>\n",
       "      <td>426.0</td>\n",
       "      <td>18.0</td>\n",
       "      <td>36.0</td>\n",
       "    </tr>\n",
       "  </tbody>\n",
       "</table>\n",
       "</div>"
      ],
      "text/plain": [
       "   user_id  month  duration  mb_used  messages\n",
       "0     1000     12     124.0      2.0      11.0\n",
       "1     1001      8     182.0      7.0      30.0\n",
       "2     1001      9     315.0     13.0      44.0\n",
       "3     1001     10     393.0     22.0      53.0\n",
       "4     1001     11     426.0     18.0      36.0"
      ]
     },
     "execution_count": 32,
     "metadata": {},
     "output_type": "execute_result"
    }
   ],
   "source": [
    "df_merged=df_merged.reset_index()\n",
    "print(len(df_merged))\n",
    "df_merged.head(5)"
   ]
  },
  {
   "cell_type": "code",
   "execution_count": 33,
   "id": "6c69fe59",
   "metadata": {},
   "outputs": [
    {
     "data": {
      "text/html": [
       "<div>\n",
       "<style scoped>\n",
       "    .dataframe tbody tr th:only-of-type {\n",
       "        vertical-align: middle;\n",
       "    }\n",
       "\n",
       "    .dataframe tbody tr th {\n",
       "        vertical-align: top;\n",
       "    }\n",
       "\n",
       "    .dataframe thead th {\n",
       "        text-align: right;\n",
       "    }\n",
       "</style>\n",
       "<table border=\"1\" class=\"dataframe\">\n",
       "  <thead>\n",
       "    <tr style=\"text-align: right;\">\n",
       "      <th></th>\n",
       "      <th>messages_included</th>\n",
       "      <th>mb_per_month_included</th>\n",
       "      <th>minutes_included</th>\n",
       "      <th>usd_monthly_pay</th>\n",
       "      <th>usd_per_gb</th>\n",
       "      <th>usd_per_message</th>\n",
       "      <th>usd_per_minute</th>\n",
       "      <th>plan_name</th>\n",
       "    </tr>\n",
       "  </thead>\n",
       "  <tbody>\n",
       "    <tr>\n",
       "      <th>0</th>\n",
       "      <td>50</td>\n",
       "      <td>15360</td>\n",
       "      <td>500</td>\n",
       "      <td>20</td>\n",
       "      <td>10</td>\n",
       "      <td>0.03</td>\n",
       "      <td>0.03</td>\n",
       "      <td>surf</td>\n",
       "    </tr>\n",
       "    <tr>\n",
       "      <th>1</th>\n",
       "      <td>1000</td>\n",
       "      <td>30720</td>\n",
       "      <td>3000</td>\n",
       "      <td>70</td>\n",
       "      <td>7</td>\n",
       "      <td>0.01</td>\n",
       "      <td>0.01</td>\n",
       "      <td>ultimate</td>\n",
       "    </tr>\n",
       "  </tbody>\n",
       "</table>\n",
       "</div>"
      ],
      "text/plain": [
       "   messages_included  mb_per_month_included  minutes_included  \\\n",
       "0                 50                  15360               500   \n",
       "1               1000                  30720              3000   \n",
       "\n",
       "   usd_monthly_pay  usd_per_gb  usd_per_message  usd_per_minute plan_name  \n",
       "0               20          10             0.03            0.03      surf  \n",
       "1               70           7             0.01            0.01  ultimate  "
      ]
     },
     "execution_count": 33,
     "metadata": {},
     "output_type": "execute_result"
    }
   ],
   "source": [
    "plans_df"
   ]
  },
  {
   "cell_type": "code",
   "execution_count": 34,
   "id": "eb52e4a0",
   "metadata": {},
   "outputs": [
    {
     "data": {
      "text/html": [
       "<div>\n",
       "<style scoped>\n",
       "    .dataframe tbody tr th:only-of-type {\n",
       "        vertical-align: middle;\n",
       "    }\n",
       "\n",
       "    .dataframe tbody tr th {\n",
       "        vertical-align: top;\n",
       "    }\n",
       "\n",
       "    .dataframe thead th {\n",
       "        text-align: right;\n",
       "    }\n",
       "</style>\n",
       "<table border=\"1\" class=\"dataframe\">\n",
       "  <thead>\n",
       "    <tr style=\"text-align: right;\">\n",
       "      <th></th>\n",
       "      <th>user_id</th>\n",
       "      <th>first_name</th>\n",
       "      <th>last_name</th>\n",
       "      <th>age</th>\n",
       "      <th>city</th>\n",
       "      <th>reg_date</th>\n",
       "      <th>tariff</th>\n",
       "      <th>churn_date</th>\n",
       "    </tr>\n",
       "  </thead>\n",
       "  <tbody>\n",
       "    <tr>\n",
       "      <th>0</th>\n",
       "      <td>1000</td>\n",
       "      <td>Anamaria</td>\n",
       "      <td>Bauer</td>\n",
       "      <td>45</td>\n",
       "      <td>Atlanta-Sandy Springs-Roswell, GA MSA</td>\n",
       "      <td>2018-12-24</td>\n",
       "      <td>ultimate</td>\n",
       "      <td>NaN</td>\n",
       "    </tr>\n",
       "    <tr>\n",
       "      <th>1</th>\n",
       "      <td>1001</td>\n",
       "      <td>Mickey</td>\n",
       "      <td>Wilkerson</td>\n",
       "      <td>28</td>\n",
       "      <td>Seattle-Tacoma-Bellevue, WA MSA</td>\n",
       "      <td>2018-08-13</td>\n",
       "      <td>surf</td>\n",
       "      <td>NaN</td>\n",
       "    </tr>\n",
       "    <tr>\n",
       "      <th>2</th>\n",
       "      <td>1002</td>\n",
       "      <td>Carlee</td>\n",
       "      <td>Hoffman</td>\n",
       "      <td>36</td>\n",
       "      <td>Las Vegas-Henderson-Paradise, NV MSA</td>\n",
       "      <td>2018-10-21</td>\n",
       "      <td>surf</td>\n",
       "      <td>NaN</td>\n",
       "    </tr>\n",
       "    <tr>\n",
       "      <th>3</th>\n",
       "      <td>1003</td>\n",
       "      <td>Reynaldo</td>\n",
       "      <td>Jenkins</td>\n",
       "      <td>52</td>\n",
       "      <td>Tulsa, OK MSA</td>\n",
       "      <td>2018-01-28</td>\n",
       "      <td>surf</td>\n",
       "      <td>NaN</td>\n",
       "    </tr>\n",
       "    <tr>\n",
       "      <th>4</th>\n",
       "      <td>1004</td>\n",
       "      <td>Leonila</td>\n",
       "      <td>Thompson</td>\n",
       "      <td>40</td>\n",
       "      <td>Seattle-Tacoma-Bellevue, WA MSA</td>\n",
       "      <td>2018-05-23</td>\n",
       "      <td>surf</td>\n",
       "      <td>NaN</td>\n",
       "    </tr>\n",
       "  </tbody>\n",
       "</table>\n",
       "</div>"
      ],
      "text/plain": [
       "   user_id first_name  last_name  age                                   city  \\\n",
       "0     1000   Anamaria      Bauer   45  Atlanta-Sandy Springs-Roswell, GA MSA   \n",
       "1     1001     Mickey  Wilkerson   28        Seattle-Tacoma-Bellevue, WA MSA   \n",
       "2     1002     Carlee    Hoffman   36   Las Vegas-Henderson-Paradise, NV MSA   \n",
       "3     1003   Reynaldo    Jenkins   52                          Tulsa, OK MSA   \n",
       "4     1004    Leonila   Thompson   40        Seattle-Tacoma-Bellevue, WA MSA   \n",
       "\n",
       "     reg_date    tariff churn_date  \n",
       "0  2018-12-24  ultimate        NaN  \n",
       "1  2018-08-13      surf        NaN  \n",
       "2  2018-10-21      surf        NaN  \n",
       "3  2018-01-28      surf        NaN  \n",
       "4  2018-05-23      surf        NaN  "
      ]
     },
     "execution_count": 34,
     "metadata": {},
     "output_type": "execute_result"
    }
   ],
   "source": [
    "users_df.head()"
   ]
  },
  {
   "cell_type": "code",
   "execution_count": 35,
   "id": "c0971583",
   "metadata": {},
   "outputs": [],
   "source": [
    "users_df=users_df.rename(columns= {'tariff': 'plan'})\n"
   ]
  },
  {
   "cell_type": "markdown",
   "id": "513d4725",
   "metadata": {},
   "source": [
    "##### In order to calculate the monthly revenue column I added the tariff column"
   ]
  },
  {
   "cell_type": "code",
   "execution_count": 36,
   "id": "8e092ac8",
   "metadata": {},
   "outputs": [
    {
     "data": {
      "text/html": [
       "<div>\n",
       "<style scoped>\n",
       "    .dataframe tbody tr th:only-of-type {\n",
       "        vertical-align: middle;\n",
       "    }\n",
       "\n",
       "    .dataframe tbody tr th {\n",
       "        vertical-align: top;\n",
       "    }\n",
       "\n",
       "    .dataframe thead th {\n",
       "        text-align: right;\n",
       "    }\n",
       "</style>\n",
       "<table border=\"1\" class=\"dataframe\">\n",
       "  <thead>\n",
       "    <tr style=\"text-align: right;\">\n",
       "      <th></th>\n",
       "      <th>user_id</th>\n",
       "      <th>month</th>\n",
       "      <th>duration</th>\n",
       "      <th>mb_used</th>\n",
       "      <th>messages</th>\n",
       "      <th>plan</th>\n",
       "    </tr>\n",
       "  </thead>\n",
       "  <tbody>\n",
       "    <tr>\n",
       "      <th>0</th>\n",
       "      <td>1000</td>\n",
       "      <td>12</td>\n",
       "      <td>124.0</td>\n",
       "      <td>2.0</td>\n",
       "      <td>11.0</td>\n",
       "      <td>ultimate</td>\n",
       "    </tr>\n",
       "    <tr>\n",
       "      <th>1</th>\n",
       "      <td>1001</td>\n",
       "      <td>8</td>\n",
       "      <td>182.0</td>\n",
       "      <td>7.0</td>\n",
       "      <td>30.0</td>\n",
       "      <td>surf</td>\n",
       "    </tr>\n",
       "    <tr>\n",
       "      <th>2</th>\n",
       "      <td>1001</td>\n",
       "      <td>9</td>\n",
       "      <td>315.0</td>\n",
       "      <td>13.0</td>\n",
       "      <td>44.0</td>\n",
       "      <td>surf</td>\n",
       "    </tr>\n",
       "    <tr>\n",
       "      <th>3</th>\n",
       "      <td>1001</td>\n",
       "      <td>10</td>\n",
       "      <td>393.0</td>\n",
       "      <td>22.0</td>\n",
       "      <td>53.0</td>\n",
       "      <td>surf</td>\n",
       "    </tr>\n",
       "    <tr>\n",
       "      <th>4</th>\n",
       "      <td>1001</td>\n",
       "      <td>11</td>\n",
       "      <td>426.0</td>\n",
       "      <td>18.0</td>\n",
       "      <td>36.0</td>\n",
       "      <td>surf</td>\n",
       "    </tr>\n",
       "  </tbody>\n",
       "</table>\n",
       "</div>"
      ],
      "text/plain": [
       "   user_id  month  duration  mb_used  messages      plan\n",
       "0     1000     12     124.0      2.0      11.0  ultimate\n",
       "1     1001      8     182.0      7.0      30.0      surf\n",
       "2     1001      9     315.0     13.0      44.0      surf\n",
       "3     1001     10     393.0     22.0      53.0      surf\n",
       "4     1001     11     426.0     18.0      36.0      surf"
      ]
     },
     "execution_count": 36,
     "metadata": {},
     "output_type": "execute_result"
    }
   ],
   "source": [
    "df_merged = pd.merge(df_merged, users_df[['user_id', 'plan']], on ='user_id')\n",
    "df_merged.head()"
   ]
  },
  {
   "cell_type": "code",
   "execution_count": 37,
   "id": "037b0ce1",
   "metadata": {},
   "outputs": [],
   "source": [
    "def monthly_pay(row):\n",
    "    \n",
    "    plan = row['plan']\n",
    "    call_duration = row['duration']   \n",
    "    text_duratiom = row['messages']\n",
    "    data_use = row['mb_used']\n",
    "    call_revenue = 0\n",
    "    text_revenue = 0\n",
    "    data_revenue = 0\n",
    "#     print(f'{row.user_id} - Call duration:{call_duraion}, Text duration:{text_duratiom}, Data use:{data_use}')\n",
    "    if plan=='surf':\n",
    "        fix_cost = 20\n",
    "        call_limit = 500\n",
    "        minut_fee = 0.03\n",
    "        text_limit = 50\n",
    "        text_fee = 0.03\n",
    "        data_limit = 15\n",
    "        fata_fee = 10\n",
    "#         print(f'Call limit:{call_limit}, Text limit:{text_limit}, Data limit:{data_limit}')\n",
    "           \n",
    "    else:\n",
    "        \n",
    "        fix_cost = 70\n",
    "        call_limit = 3000\n",
    "        minut_fee = 0.01\n",
    "        text_limit = 1000\n",
    "        text_fee = 0.01\n",
    "        data_limit = 30\n",
    "        fata_fee = 7\n",
    "#         print(f'Call limit:{call_limit}, Text limit:{text_limit}, Data limit:{data_limit}')\n",
    "        \n",
    "    if call_duration > call_limit:\n",
    "        call_revenue = (call_duration-call_limit) * minut_fee\n",
    "#         print('pay for calls')\n",
    "\n",
    "    if text_duratiom > text_limit:\n",
    "        text_revenue = (text_duratiom-text_limit) * text_fee\n",
    "#         print('pay for text')\n",
    "\n",
    "    if data_use > data_limit:\n",
    "        data_revenue = (data_use-data_limit) * fata_fee\n",
    "#         print('pay for data')\n",
    "    \n",
    "    revenue = fix_cost + call_revenue + text_revenue + data_revenue \n",
    "#     print(f'fix_cost- {fix_cost}, call_revenue - {call_revenue}, text_revenue - {text_revenue}, data_revenue - {data_revenue}, revenue - {revenue} ')\n",
    "    return revenue  "
   ]
  },
  {
   "cell_type": "markdown",
   "id": "ae3fdcbd",
   "metadata": {},
   "source": [
    "##### Calculating and adding the monthly revenue column"
   ]
  },
  {
   "cell_type": "code",
   "execution_count": 38,
   "id": "6fee1a6f",
   "metadata": {},
   "outputs": [],
   "source": [
    "df_merged['revenue_pm'] = df_merged.apply(monthly_pay, axis=1)"
   ]
  },
  {
   "cell_type": "code",
   "execution_count": 39,
   "id": "208ce8f8",
   "metadata": {},
   "outputs": [
    {
     "data": {
      "text/html": [
       "<div>\n",
       "<style scoped>\n",
       "    .dataframe tbody tr th:only-of-type {\n",
       "        vertical-align: middle;\n",
       "    }\n",
       "\n",
       "    .dataframe tbody tr th {\n",
       "        vertical-align: top;\n",
       "    }\n",
       "\n",
       "    .dataframe thead th {\n",
       "        text-align: right;\n",
       "    }\n",
       "</style>\n",
       "<table border=\"1\" class=\"dataframe\">\n",
       "  <thead>\n",
       "    <tr style=\"text-align: right;\">\n",
       "      <th></th>\n",
       "      <th>user_id</th>\n",
       "      <th>month</th>\n",
       "      <th>duration</th>\n",
       "      <th>mb_used</th>\n",
       "      <th>messages</th>\n",
       "      <th>plan</th>\n",
       "      <th>revenue_pm</th>\n",
       "    </tr>\n",
       "  </thead>\n",
       "  <tbody>\n",
       "    <tr>\n",
       "      <th>0</th>\n",
       "      <td>1000</td>\n",
       "      <td>12</td>\n",
       "      <td>124.0</td>\n",
       "      <td>2.0</td>\n",
       "      <td>11.0</td>\n",
       "      <td>ultimate</td>\n",
       "      <td>70.00</td>\n",
       "    </tr>\n",
       "    <tr>\n",
       "      <th>1</th>\n",
       "      <td>1001</td>\n",
       "      <td>8</td>\n",
       "      <td>182.0</td>\n",
       "      <td>7.0</td>\n",
       "      <td>30.0</td>\n",
       "      <td>surf</td>\n",
       "      <td>20.00</td>\n",
       "    </tr>\n",
       "    <tr>\n",
       "      <th>2</th>\n",
       "      <td>1001</td>\n",
       "      <td>9</td>\n",
       "      <td>315.0</td>\n",
       "      <td>13.0</td>\n",
       "      <td>44.0</td>\n",
       "      <td>surf</td>\n",
       "      <td>20.00</td>\n",
       "    </tr>\n",
       "    <tr>\n",
       "      <th>3</th>\n",
       "      <td>1001</td>\n",
       "      <td>10</td>\n",
       "      <td>393.0</td>\n",
       "      <td>22.0</td>\n",
       "      <td>53.0</td>\n",
       "      <td>surf</td>\n",
       "      <td>90.09</td>\n",
       "    </tr>\n",
       "    <tr>\n",
       "      <th>4</th>\n",
       "      <td>1001</td>\n",
       "      <td>11</td>\n",
       "      <td>426.0</td>\n",
       "      <td>18.0</td>\n",
       "      <td>36.0</td>\n",
       "      <td>surf</td>\n",
       "      <td>50.00</td>\n",
       "    </tr>\n",
       "  </tbody>\n",
       "</table>\n",
       "</div>"
      ],
      "text/plain": [
       "   user_id  month  duration  mb_used  messages      plan  revenue_pm\n",
       "0     1000     12     124.0      2.0      11.0  ultimate       70.00\n",
       "1     1001      8     182.0      7.0      30.0      surf       20.00\n",
       "2     1001      9     315.0     13.0      44.0      surf       20.00\n",
       "3     1001     10     393.0     22.0      53.0      surf       90.09\n",
       "4     1001     11     426.0     18.0      36.0      surf       50.00"
      ]
     },
     "execution_count": 39,
     "metadata": {},
     "output_type": "execute_result"
    }
   ],
   "source": [
    "df_merged.head(5)"
   ]
  },
  {
   "cell_type": "markdown",
   "id": "24615145",
   "metadata": {},
   "source": [
    "<b> Conclusion </b>\n",
    "\n",
    "For the preliminary inspection and evaluation of the data I used the head() and info() method to take a look at all of five data sets before chaining or removing anything. \n",
    "\n",
    "\n",
    "* calls_df - I decided not to remove the rows with zero values in this data set, even though they did not seem to serve any purpose for the analysis the reduction of the data framed as they were grouped according to month may have eliminated them, they might have an effect on the histograms and can be removed as outliers. Before grouping the data I used round() method to round up the minutes, In order to group the data by month I used the datetime() method.\n",
    "* internet_df - due to this data being in mb I first changed the date column to datetime and grouped by month so only after that I converted to gb by dividing the column by 1000. For now, I decided not to remove zero values.  \n",
    "* messages_df - there were no zero values in this data frame, to help further comprehensive work with this data frame I decided to change the 'id' column to 'messages', since that's what this column represents. The same as in the calls and internet columns I rounded up and grouped the data by month. \n",
    "\n",
    "The new data frame I constructed is called df_merged, I combined all three data frames using the reduce method according to the user_id per month. In order to calculate the revenue per month from each user I added the tariff column and after calculating the revenue per month I added another with the monthly revenue per user.\n",
    "\n"
   ]
  },
  {
   "cell_type": "markdown",
   "id": "2ee58d54",
   "metadata": {},
   "source": [
    "### Step 3. Analyze the data"
   ]
  },
  {
   "cell_type": "code",
   "execution_count": 40,
   "id": "7c735b48",
   "metadata": {},
   "outputs": [
    {
     "data": {
      "text/plain": [
       "user_id         0\n",
       "month           0\n",
       "duration       35\n",
       "mb_used        16\n",
       "messages      487\n",
       "plan            0\n",
       "revenue_pm      0\n",
       "dtype: int64"
      ]
     },
     "execution_count": 40,
     "metadata": {},
     "output_type": "execute_result"
    }
   ],
   "source": [
    "df_merged.isnull().sum() "
   ]
  },
  {
   "cell_type": "markdown",
   "id": "16045dff",
   "metadata": {},
   "source": [
    "This makes sense since some people prefer not to use sms (they can use data instead)"
   ]
  },
  {
   "cell_type": "code",
   "execution_count": 41,
   "id": "262f3cf9",
   "metadata": {},
   "outputs": [
    {
     "data": {
      "text/html": [
       "<div>\n",
       "<style scoped>\n",
       "    .dataframe tbody tr th:only-of-type {\n",
       "        vertical-align: middle;\n",
       "    }\n",
       "\n",
       "    .dataframe tbody tr th {\n",
       "        vertical-align: top;\n",
       "    }\n",
       "\n",
       "    .dataframe thead th {\n",
       "        text-align: right;\n",
       "    }\n",
       "</style>\n",
       "<table border=\"1\" class=\"dataframe\">\n",
       "  <thead>\n",
       "    <tr style=\"text-align: right;\">\n",
       "      <th></th>\n",
       "      <th>user_id</th>\n",
       "      <th>month</th>\n",
       "      <th>duration</th>\n",
       "      <th>mb_used</th>\n",
       "      <th>messages</th>\n",
       "      <th>revenue_pm</th>\n",
       "    </tr>\n",
       "  </thead>\n",
       "  <tbody>\n",
       "    <tr>\n",
       "      <th>count</th>\n",
       "      <td>2293.000000</td>\n",
       "      <td>2293.000000</td>\n",
       "      <td>2258.000000</td>\n",
       "      <td>2277.000000</td>\n",
       "      <td>1806.000000</td>\n",
       "      <td>2293.000000</td>\n",
       "    </tr>\n",
       "    <tr>\n",
       "      <th>mean</th>\n",
       "      <td>1246.075883</td>\n",
       "      <td>9.172700</td>\n",
       "      <td>435.937555</td>\n",
       "      <td>16.481335</td>\n",
       "      <td>42.110188</td>\n",
       "      <td>62.128295</td>\n",
       "    </tr>\n",
       "    <tr>\n",
       "      <th>std</th>\n",
       "      <td>143.051927</td>\n",
       "      <td>2.496386</td>\n",
       "      <td>231.972343</td>\n",
       "      <td>7.684190</td>\n",
       "      <td>33.122931</td>\n",
       "      <td>45.501479</td>\n",
       "    </tr>\n",
       "    <tr>\n",
       "      <th>min</th>\n",
       "      <td>1000.000000</td>\n",
       "      <td>1.000000</td>\n",
       "      <td>0.000000</td>\n",
       "      <td>0.000000</td>\n",
       "      <td>1.000000</td>\n",
       "      <td>20.000000</td>\n",
       "    </tr>\n",
       "    <tr>\n",
       "      <th>25%</th>\n",
       "      <td>1122.000000</td>\n",
       "      <td>8.000000</td>\n",
       "      <td>275.000000</td>\n",
       "      <td>12.000000</td>\n",
       "      <td>17.000000</td>\n",
       "      <td>22.370000</td>\n",
       "    </tr>\n",
       "    <tr>\n",
       "      <th>50%</th>\n",
       "      <td>1245.000000</td>\n",
       "      <td>10.000000</td>\n",
       "      <td>429.000000</td>\n",
       "      <td>16.000000</td>\n",
       "      <td>34.000000</td>\n",
       "      <td>70.000000</td>\n",
       "    </tr>\n",
       "    <tr>\n",
       "      <th>75%</th>\n",
       "      <td>1368.000000</td>\n",
       "      <td>11.000000</td>\n",
       "      <td>574.750000</td>\n",
       "      <td>21.000000</td>\n",
       "      <td>59.000000</td>\n",
       "      <td>70.000000</td>\n",
       "    </tr>\n",
       "    <tr>\n",
       "      <th>max</th>\n",
       "      <td>1499.000000</td>\n",
       "      <td>12.000000</td>\n",
       "      <td>1510.000000</td>\n",
       "      <td>69.000000</td>\n",
       "      <td>266.000000</td>\n",
       "      <td>580.370000</td>\n",
       "    </tr>\n",
       "  </tbody>\n",
       "</table>\n",
       "</div>"
      ],
      "text/plain": [
       "           user_id        month     duration      mb_used     messages  \\\n",
       "count  2293.000000  2293.000000  2258.000000  2277.000000  1806.000000   \n",
       "mean   1246.075883     9.172700   435.937555    16.481335    42.110188   \n",
       "std     143.051927     2.496386   231.972343     7.684190    33.122931   \n",
       "min    1000.000000     1.000000     0.000000     0.000000     1.000000   \n",
       "25%    1122.000000     8.000000   275.000000    12.000000    17.000000   \n",
       "50%    1245.000000    10.000000   429.000000    16.000000    34.000000   \n",
       "75%    1368.000000    11.000000   574.750000    21.000000    59.000000   \n",
       "max    1499.000000    12.000000  1510.000000    69.000000   266.000000   \n",
       "\n",
       "        revenue_pm  \n",
       "count  2293.000000  \n",
       "mean     62.128295  \n",
       "std      45.501479  \n",
       "min      20.000000  \n",
       "25%      22.370000  \n",
       "50%      70.000000  \n",
       "75%      70.000000  \n",
       "max     580.370000  "
      ]
     },
     "execution_count": 41,
     "metadata": {},
     "output_type": "execute_result"
    }
   ],
   "source": [
    "df_merged.describe()"
   ]
  },
  {
   "cell_type": "code",
   "execution_count": 42,
   "id": "d2e80d82",
   "metadata": {},
   "outputs": [
    {
     "name": "stdout",
     "output_type": "stream",
     "text": [
      "429.0\n",
      "16.0\n",
      "34.0\n"
     ]
    }
   ],
   "source": [
    "print(df_merged['duration'].median())\n",
    "print(df_merged['mb_used'].median())\n",
    "print(df_merged['messages'].median())"
   ]
  },
  {
   "cell_type": "code",
   "execution_count": 43,
   "id": "fd586c5a",
   "metadata": {},
   "outputs": [
    {
     "data": {
      "image/png": "[encoded data removed]",
      "text/plain": [
       "<Figure size 432x288 with 1 Axes>"
      ]
     },
     "metadata": {
      "needs_background": "light"
     },
     "output_type": "display_data"
    },
    {
     "data": {
      "image/png": "[encoded data removed]",
      "text/plain": [
       "<Figure size 432x288 with 1 Axes>"
      ]
     },
     "metadata": {
      "needs_background": "light"
     },
     "output_type": "display_data"
    },
    {
     "data": {
      "image/png": "[encoded data removed]",
      "text/plain": [
       "<Figure size 432x288 with 1 Axes>"
      ]
     },
     "metadata": {
      "needs_background": "light"
     },
     "output_type": "display_data"
    }
   ],
   "source": [
    "task = ['duration', 'mb_used', 'messages']\n",
    "color = ['red', 'purple', 'green']\n",
    "\n",
    "for c_i, i in enumerate(task):\n",
    "    df_merged.hist(i, color=color[c_i])\n",
    "    \n",
    "#positive skew in all the plots! "
   ]
  },
  {
   "cell_type": "code",
   "execution_count": 44,
   "id": "533d1c5d",
   "metadata": {},
   "outputs": [
    {
     "data": {
      "image/png": "[encoded data removed]",
      "text/plain": [
       "<Figure size 432x288 with 1 Axes>"
      ]
     },
     "metadata": {
      "needs_background": "light"
     },
     "output_type": "display_data"
    }
   ],
   "source": [
    "df_merged.boxplot(column = ['duration', 'mb_used', 'messages']); #figsize=(10,10))"
   ]
  },
  {
   "cell_type": "code",
   "execution_count": 45,
   "id": "5d16e22f",
   "metadata": {},
   "outputs": [
    {
     "data": {
      "image/png": "[encoded data removed]",
      "text/plain": [
       "<Figure size 432x288 with 1 Axes>"
      ]
     },
     "metadata": {
      "needs_background": "light"
     },
     "output_type": "display_data"
    }
   ],
   "source": [
    "df_merged['plan'].value_counts().plot(kind='bar');"
   ]
  },
  {
   "cell_type": "code",
   "execution_count": 46,
   "id": "d8bc8f28",
   "metadata": {},
   "outputs": [
    {
     "data": {
      "text/plain": [
       "'1.2.4'"
      ]
     },
     "execution_count": 46,
     "metadata": {},
     "output_type": "execute_result"
    }
   ],
   "source": [
    "#pandas version\n",
    "pd.__version__\n"
   ]
  },
  {
   "cell_type": "code",
   "execution_count": 47,
   "id": "28b8afc9",
   "metadata": {},
   "outputs": [
    {
     "name": "stdout",
     "output_type": "stream",
     "text": [
      "duration 0 red\n",
      "mb_used 1 purple\n",
      "messages 2 green\n"
     ]
    },
    {
     "data": {
      "image/png": "[encoded data removed]",
      "text/plain": [
       "<Figure size 432x288 with 1 Axes>"
      ]
     },
     "metadata": {
      "needs_background": "light"
     },
     "output_type": "display_data"
    },
    {
     "data": {
      "image/png": "[encoded data removed]",
      "text/plain": [
       "<Figure size 432x288 with 1 Axes>"
      ]
     },
     "metadata": {
      "needs_background": "light"
     },
     "output_type": "display_data"
    },
    {
     "data": {
      "image/png": "[encoded data removed]",
      "text/plain": [
       "<Figure size 432x288 with 1 Axes>"
      ]
     },
     "metadata": {
      "needs_background": "light"
     },
     "output_type": "display_data"
    },
    {
     "data": {
      "text/plain": [
       "<Figure size 432x288 with 0 Axes>"
      ]
     },
     "metadata": {},
     "output_type": "display_data"
    }
   ],
   "source": [
    "task = ['duration', 'mb_used', 'messages']\n",
    "color = ['red', 'purple', 'green']\n",
    "\n",
    "for c_i, i in enumerate(task):\n",
    "    print(i,c_i,color[c_i])\n",
    "#     df_merged.boxplot(i, color=color[c_i]);\n",
    "    df_merged.boxplot(i);\n",
    "    plt.figure();"
   ]
  },
  {
   "cell_type": "code",
   "execution_count": 48,
   "id": "23bdb1c8",
   "metadata": {},
   "outputs": [
    {
     "data": {
      "text/plain": [
       "plan\n",
       "surf        53.839188\n",
       "ultimate    10.812881\n",
       "Name: revenue_pm, dtype: float64"
      ]
     },
     "execution_count": 48,
     "metadata": {},
     "output_type": "execute_result"
    }
   ],
   "source": [
    "df_merged.groupby(['plan'])['revenue_pm'].std()"
   ]
  },
  {
   "cell_type": "code",
   "execution_count": 49,
   "id": "4a966771",
   "metadata": {},
   "outputs": [
    {
     "data": {
      "text/plain": [
       "plan\n",
       "surf        0.935365\n",
       "ultimate    0.149950\n",
       "Name: revenue_pm, dtype: float64"
      ]
     },
     "execution_count": 49,
     "metadata": {},
     "output_type": "execute_result"
    }
   ],
   "source": [
    "df_merged.groupby(['plan'])['revenue_pm'].std()/df_merged.groupby(['plan'])['revenue_pm'].mean()\n",
    "#calculating cv (covariance)"
   ]
  },
  {
   "cell_type": "markdown",
   "id": "052a3e2b",
   "metadata": {},
   "source": [
    "<b> Conclusion </b>\n",
    "\n",
    "* call = mean 435.93, STD 231.97, median 404.0\n",
    "* messages = mean 42, STD 33.12, median 34.0\n",
    "* gb_use = mean 16.88, STD 7.88, median 17.0\n",
    "\n",
    "\n",
    "The boxplots show significant outliers in calls messages an data. However, it is not unusual to have people who prefer having long conversations, or to only text or use up more data. So in this case, and due to the small and very tidy data set, there are no real outliers and the whiskers of the boxplot are actual useful data that can help with the company's future business plans. Similar to a customer that buys a lot in a shop, it may not be very common but definitely very profitable.\n",
    "\n",
    "In calls, messages and data use, we have zero values. This makes a lot of sense, for instance elderly people don't normally use messages or data, deaf people don't use the calls, only text or data. The missing values in this case are important. \n",
    "\n",
    "<b> The average customer in megaline talks about 411 minutes a month, texts 42 times and uses up 16.88 gb of data per month.\n",
    "The outliers of this dataset are skewed to right in a positive skew due to the nature of the outliers. </b>\n",
    "\n",
    "\n",
    " "
   ]
  },
  {
   "cell_type": "markdown",
   "id": "20b248b9",
   "metadata": {},
   "source": [
    "### Step 4. Test the hypotheses"
   ]
  },
  {
   "cell_type": "markdown",
   "id": "fc88dc73",
   "metadata": {},
   "source": [
    "* The average revenue from users of Ultimate and Surf calling plans differs.\n",
    "* the average revenue from users in NY-NJ area is different from that of the the users from other regions."
   ]
  },
  {
   "cell_type": "markdown",
   "id": "bdaa658e",
   "metadata": {},
   "source": [
    "#### First hypotheses "
   ]
  },
  {
   "cell_type": "markdown",
   "id": "2c12bee7",
   "metadata": {},
   "source": [
    "First I want to take a look at the frequency of the plans, it's much more clear visually"
   ]
  },
  {
   "cell_type": "code",
   "execution_count": 50,
   "id": "48f5c2bc",
   "metadata": {},
   "outputs": [
    {
     "data": {
      "image/png": "[encoded data removed]",
      "text/plain": [
       "<Figure size 432x288 with 1 Axes>"
      ]
     },
     "metadata": {
      "needs_background": "light"
     },
     "output_type": "display_data"
    }
   ],
   "source": [
    "df_merged['plan'].value_counts().plot(kind='bar');"
   ]
  },
  {
   "cell_type": "code",
   "execution_count": 51,
   "id": "57e81e9e",
   "metadata": {},
   "outputs": [
    {
     "data": {
      "text/plain": [
       "'0.11.2'"
      ]
     },
     "execution_count": 51,
     "metadata": {},
     "output_type": "execute_result"
    }
   ],
   "source": [
    "sns.__version__\n",
    "# sns.histplot?"
   ]
  },
  {
   "cell_type": "code",
   "execution_count": 52,
   "id": "708f5458",
   "metadata": {},
   "outputs": [],
   "source": [
    "def tariff_stat(plan):\n",
    "    fig, ax = plt.subplots(figsize=(8,7))\n",
    "    ax=sns.histplot(df_merged, x=plan, hue='plan')\n",
    "    mean=df_merged[plan].mean()\n",
    "    std=df_merged[plan].std()\n",
    "    var=df_merged[plan].var()\n",
    "    cv=std/mean\n",
    "    plt.show()\n",
    "    print('Average is', mean)\n",
    "    print(df_merged.groupby(['plan'])[plan].mean())\n",
    "    if cv>1:\n",
    "        print('Varies a lot')\n",
    "    else:\n",
    "        print('Centered around average')"
   ]
  },
  {
   "cell_type": "code",
   "execution_count": 53,
   "id": "18628532",
   "metadata": {},
   "outputs": [
    {
     "data": {
      "image/png": "[encoded data removed]",
      "text/plain": [
       "<Figure size 576x504 with 1 Axes>"
      ]
     },
     "metadata": {
      "needs_background": "light"
     },
     "output_type": "display_data"
    },
    {
     "name": "stdout",
     "output_type": "stream",
     "text": [
      "Average is 435.9375553587245\n",
      "plan\n",
      "surf        436.519741\n",
      "ultimate    434.676017\n",
      "Name: duration, dtype: float64\n",
      "Centered around average\n"
     ]
    }
   ],
   "source": [
    "tariff_stat('duration')"
   ]
  },
  {
   "cell_type": "code",
   "execution_count": 54,
   "id": "50fb7988",
   "metadata": {},
   "outputs": [
    {
     "data": {
      "image/png": "[encoded data removed]",
      "text/plain": [
       "<Figure size 576x504 with 1 Axes>"
      ]
     },
     "metadata": {
      "needs_background": "light"
     },
     "output_type": "display_data"
    },
    {
     "name": "stdout",
     "output_type": "stream",
     "text": [
      "Average is 16.481335090030743\n",
      "plan\n",
      "surf        16.320282\n",
      "ultimate    16.830320\n",
      "Name: mb_used, dtype: float64\n",
      "Centered around average\n"
     ]
    }
   ],
   "source": [
    "tariff_stat('mb_used')"
   ]
  },
  {
   "cell_type": "code",
   "execution_count": 55,
   "id": "4446d709",
   "metadata": {},
   "outputs": [
    {
     "data": {
      "image/png": "[encoded data removed]",
      "text/plain": [
       "<Figure size 576x504 with 1 Axes>"
      ]
     },
     "metadata": {
      "needs_background": "light"
     },
     "output_type": "display_data"
    },
    {
     "name": "stdout",
     "output_type": "stream",
     "text": [
      "Average is 42.110188261351055\n",
      "plan\n",
      "surf        40.109656\n",
      "ultimate    46.296233\n",
      "Name: messages, dtype: float64\n",
      "Centered around average\n"
     ]
    }
   ],
   "source": [
    "tariff_stat('messages')"
   ]
  },
  {
   "cell_type": "code",
   "execution_count": 56,
   "id": "9100c8d5",
   "metadata": {},
   "outputs": [
    {
     "data": {
      "image/png": "[encoded data removed]",
      "text/plain": [
       "<Figure size 576x504 with 1 Axes>"
      ]
     },
     "metadata": {
      "needs_background": "light"
     },
     "output_type": "display_data"
    },
    {
     "name": "stdout",
     "output_type": "stream",
     "text": [
      "Average is 62.12829481029209\n",
      "plan\n",
      "surf        57.559555\n",
      "ultimate    72.109722\n",
      "Name: revenue_pm, dtype: float64\n",
      "Centered around average\n"
     ]
    }
   ],
   "source": [
    "tariff_stat('revenue_pm')"
   ]
  },
  {
   "cell_type": "markdown",
   "id": "1e901ad7",
   "metadata": {},
   "source": [
    "It is very obvious that the more clients use the Surf plan (approximately 2:1) and that the revenue per Ultimate plan is significantly higher than Surf plan. "
   ]
  },
  {
   "cell_type": "code",
   "execution_count": 57,
   "id": "a9d8f9b8",
   "metadata": {},
   "outputs": [
    {
     "data": {
      "image/png": "[encoded data removed]",
      "text/plain": [
       "<Figure size 432x288 with 1 Axes>"
      ]
     },
     "metadata": {
      "needs_background": "light"
     },
     "output_type": "display_data"
    }
   ],
   "source": [
    "sns.histplot(df_merged, x='revenue_pm', hue='plan', bins=50);"
   ]
  },
  {
   "cell_type": "code",
   "execution_count": 58,
   "id": "92f429e1",
   "metadata": {},
   "outputs": [],
   "source": [
    "rev_surf=df_merged[df_merged['plan']=='surf']['revenue_pm']"
   ]
  },
  {
   "cell_type": "code",
   "execution_count": 59,
   "id": "6808fbcd",
   "metadata": {},
   "outputs": [],
   "source": [
    "rev_ultimate = df_merged[df_merged['plan']=='ultimate']['revenue_pm']"
   ]
  },
  {
   "cell_type": "code",
   "execution_count": 60,
   "id": "a5acc919",
   "metadata": {},
   "outputs": [
    {
     "data": {
      "text/plain": [
       "Ttest_indResult(statistic=-7.18480185138973, pvalue=9.062843149268311e-13)"
      ]
     },
     "execution_count": 60,
     "metadata": {},
     "output_type": "execute_result"
    }
   ],
   "source": [
    "stats.ttest_ind(rev_surf, rev_ultimate)"
   ]
  },
  {
   "cell_type": "code",
   "execution_count": 61,
   "id": "4b8d4da0",
   "metadata": {},
   "outputs": [
    {
     "data": {
      "text/plain": [
       "9.062843149268311e-13"
      ]
     },
     "execution_count": 61,
     "metadata": {},
     "output_type": "execute_result"
    }
   ],
   "source": [
    "p1_value=stats.ttest_ind(rev_surf, rev_ultimate).pvalue\n",
    "p1_value"
   ]
  },
  {
   "cell_type": "code",
   "execution_count": 62,
   "id": "c9fd8d84",
   "metadata": {},
   "outputs": [
    {
     "name": "stdout",
     "output_type": "stream",
     "text": [
      "Reject hypotheses: average of revenue is different\n"
     ]
    }
   ],
   "source": [
    "alpha=0.05\n",
    "if p1_value<alpha:\n",
    "    print('Reject hypotheses: average of revenue is different')\n",
    "else:\n",
    "    print('Fail to Reject hypotheses')"
   ]
  },
  {
   "cell_type": "markdown",
   "id": "4818ad7a",
   "metadata": {},
   "source": [
    "#### Second hypotheses "
   ]
  },
  {
   "cell_type": "code",
   "execution_count": 63,
   "id": "399e83ed",
   "metadata": {},
   "outputs": [
    {
     "data": {
      "text/html": [
       "<div>\n",
       "<style scoped>\n",
       "    .dataframe tbody tr th:only-of-type {\n",
       "        vertical-align: middle;\n",
       "    }\n",
       "\n",
       "    .dataframe tbody tr th {\n",
       "        vertical-align: top;\n",
       "    }\n",
       "\n",
       "    .dataframe thead th {\n",
       "        text-align: right;\n",
       "    }\n",
       "</style>\n",
       "<table border=\"1\" class=\"dataframe\">\n",
       "  <thead>\n",
       "    <tr style=\"text-align: right;\">\n",
       "      <th></th>\n",
       "      <th>user_id</th>\n",
       "      <th>first_name</th>\n",
       "      <th>last_name</th>\n",
       "      <th>age</th>\n",
       "      <th>city</th>\n",
       "      <th>reg_date</th>\n",
       "      <th>plan</th>\n",
       "      <th>churn_date</th>\n",
       "    </tr>\n",
       "  </thead>\n",
       "  <tbody>\n",
       "    <tr>\n",
       "      <th>0</th>\n",
       "      <td>1000</td>\n",
       "      <td>Anamaria</td>\n",
       "      <td>Bauer</td>\n",
       "      <td>45</td>\n",
       "      <td>Atlanta-Sandy Springs-Roswell, GA MSA</td>\n",
       "      <td>2018-12-24</td>\n",
       "      <td>ultimate</td>\n",
       "      <td>NaN</td>\n",
       "    </tr>\n",
       "    <tr>\n",
       "      <th>1</th>\n",
       "      <td>1001</td>\n",
       "      <td>Mickey</td>\n",
       "      <td>Wilkerson</td>\n",
       "      <td>28</td>\n",
       "      <td>Seattle-Tacoma-Bellevue, WA MSA</td>\n",
       "      <td>2018-08-13</td>\n",
       "      <td>surf</td>\n",
       "      <td>NaN</td>\n",
       "    </tr>\n",
       "  </tbody>\n",
       "</table>\n",
       "</div>"
      ],
      "text/plain": [
       "   user_id first_name  last_name  age                                   city  \\\n",
       "0     1000   Anamaria      Bauer   45  Atlanta-Sandy Springs-Roswell, GA MSA   \n",
       "1     1001     Mickey  Wilkerson   28        Seattle-Tacoma-Bellevue, WA MSA   \n",
       "\n",
       "     reg_date      plan churn_date  \n",
       "0  2018-12-24  ultimate        NaN  \n",
       "1  2018-08-13      surf        NaN  "
      ]
     },
     "execution_count": 63,
     "metadata": {},
     "output_type": "execute_result"
    }
   ],
   "source": [
    "users_df.head(2)"
   ]
  },
  {
   "cell_type": "code",
   "execution_count": 64,
   "id": "cbb82257",
   "metadata": {},
   "outputs": [
    {
     "data": {
      "text/html": [
       "<div>\n",
       "<style scoped>\n",
       "    .dataframe tbody tr th:only-of-type {\n",
       "        vertical-align: middle;\n",
       "    }\n",
       "\n",
       "    .dataframe tbody tr th {\n",
       "        vertical-align: top;\n",
       "    }\n",
       "\n",
       "    .dataframe thead th {\n",
       "        text-align: right;\n",
       "    }\n",
       "</style>\n",
       "<table border=\"1\" class=\"dataframe\">\n",
       "  <thead>\n",
       "    <tr style=\"text-align: right;\">\n",
       "      <th></th>\n",
       "      <th>user_id</th>\n",
       "      <th>month</th>\n",
       "      <th>duration</th>\n",
       "      <th>mb_used</th>\n",
       "      <th>messages</th>\n",
       "      <th>plan</th>\n",
       "      <th>revenue_pm</th>\n",
       "      <th>city</th>\n",
       "    </tr>\n",
       "  </thead>\n",
       "  <tbody>\n",
       "    <tr>\n",
       "      <th>0</th>\n",
       "      <td>1000</td>\n",
       "      <td>12</td>\n",
       "      <td>124.0</td>\n",
       "      <td>2.0</td>\n",
       "      <td>11.0</td>\n",
       "      <td>ultimate</td>\n",
       "      <td>70.00</td>\n",
       "      <td>Atlanta-Sandy Springs-Roswell, GA MSA</td>\n",
       "    </tr>\n",
       "    <tr>\n",
       "      <th>1</th>\n",
       "      <td>1001</td>\n",
       "      <td>8</td>\n",
       "      <td>182.0</td>\n",
       "      <td>7.0</td>\n",
       "      <td>30.0</td>\n",
       "      <td>surf</td>\n",
       "      <td>20.00</td>\n",
       "      <td>Seattle-Tacoma-Bellevue, WA MSA</td>\n",
       "    </tr>\n",
       "    <tr>\n",
       "      <th>2</th>\n",
       "      <td>1001</td>\n",
       "      <td>9</td>\n",
       "      <td>315.0</td>\n",
       "      <td>13.0</td>\n",
       "      <td>44.0</td>\n",
       "      <td>surf</td>\n",
       "      <td>20.00</td>\n",
       "      <td>Seattle-Tacoma-Bellevue, WA MSA</td>\n",
       "    </tr>\n",
       "    <tr>\n",
       "      <th>3</th>\n",
       "      <td>1001</td>\n",
       "      <td>10</td>\n",
       "      <td>393.0</td>\n",
       "      <td>22.0</td>\n",
       "      <td>53.0</td>\n",
       "      <td>surf</td>\n",
       "      <td>90.09</td>\n",
       "      <td>Seattle-Tacoma-Bellevue, WA MSA</td>\n",
       "    </tr>\n",
       "    <tr>\n",
       "      <th>4</th>\n",
       "      <td>1001</td>\n",
       "      <td>11</td>\n",
       "      <td>426.0</td>\n",
       "      <td>18.0</td>\n",
       "      <td>36.0</td>\n",
       "      <td>surf</td>\n",
       "      <td>50.00</td>\n",
       "      <td>Seattle-Tacoma-Bellevue, WA MSA</td>\n",
       "    </tr>\n",
       "  </tbody>\n",
       "</table>\n",
       "</div>"
      ],
      "text/plain": [
       "   user_id  month  duration  mb_used  messages      plan  revenue_pm  \\\n",
       "0     1000     12     124.0      2.0      11.0  ultimate       70.00   \n",
       "1     1001      8     182.0      7.0      30.0      surf       20.00   \n",
       "2     1001      9     315.0     13.0      44.0      surf       20.00   \n",
       "3     1001     10     393.0     22.0      53.0      surf       90.09   \n",
       "4     1001     11     426.0     18.0      36.0      surf       50.00   \n",
       "\n",
       "                                    city  \n",
       "0  Atlanta-Sandy Springs-Roswell, GA MSA  \n",
       "1        Seattle-Tacoma-Bellevue, WA MSA  \n",
       "2        Seattle-Tacoma-Bellevue, WA MSA  \n",
       "3        Seattle-Tacoma-Bellevue, WA MSA  \n",
       "4        Seattle-Tacoma-Bellevue, WA MSA  "
      ]
     },
     "execution_count": 64,
     "metadata": {},
     "output_type": "execute_result"
    }
   ],
   "source": [
    "df_merged = pd.merge(df_merged, users_df[['user_id', 'city']], on ='user_id')\n",
    "df_merged.head() #adding the city column"
   ]
  },
  {
   "cell_type": "code",
   "execution_count": 65,
   "id": "7e649227",
   "metadata": {},
   "outputs": [],
   "source": [
    "df_nynj = df_merged[df_merged['city']=='New York-Newark-Jersey City, NY-NJ-PA MSA'] #making a data frame for NY and NJ"
   ]
  },
  {
   "cell_type": "code",
   "execution_count": 66,
   "id": "be5d8bd3",
   "metadata": {},
   "outputs": [],
   "source": [
    "df_notny = df_merged[df_merged['city']!='New York-Newark-Jersey City, NY-NJ-PA MSA'] #making a data frame for NOT NY and NJ "
   ]
  },
  {
   "cell_type": "code",
   "execution_count": 67,
   "id": "46fe27e9",
   "metadata": {},
   "outputs": [],
   "source": [
    "df_surf= df_merged.query('plan==\"surf\"')\n",
    "df_ultimate= df_merged.query('plan==\"ultimate\"')"
   ]
  },
  {
   "cell_type": "code",
   "execution_count": 68,
   "id": "07867c82",
   "metadata": {},
   "outputs": [],
   "source": [
    "sample1=df_nynj['revenue_pm']\n",
    "sample2=df_notny['revenue_pm']"
   ]
  },
  {
   "cell_type": "code",
   "execution_count": 69,
   "id": "c1cb5daa",
   "metadata": {},
   "outputs": [],
   "source": [
    "from scipy import stats"
   ]
  },
  {
   "cell_type": "code",
   "execution_count": 70,
   "id": "3e7b88d6",
   "metadata": {},
   "outputs": [
    {
     "data": {
      "text/plain": [
       "Ttest_indResult(statistic=-2.192302251554125, pvalue=0.02845796412415147)"
      ]
     },
     "execution_count": 70,
     "metadata": {},
     "output_type": "execute_result"
    }
   ],
   "source": [
    "stats.ttest_ind(sample1, sample2) #we reject the null hypothesus"
   ]
  },
  {
   "cell_type": "code",
   "execution_count": 71,
   "id": "d5abc65c",
   "metadata": {},
   "outputs": [
    {
     "data": {
      "text/plain": [
       "0.02845796412415147"
      ]
     },
     "execution_count": 71,
     "metadata": {},
     "output_type": "execute_result"
    }
   ],
   "source": [
    "p_value=stats.ttest_ind(sample1, sample2).pvalue\n",
    "p_value"
   ]
  },
  {
   "cell_type": "code",
   "execution_count": 72,
   "id": "968134e6",
   "metadata": {},
   "outputs": [
    {
     "name": "stdout",
     "output_type": "stream",
     "text": [
      "Reject hypotheses: average of NY-Nj users is not equal to average of other cties\n"
     ]
    }
   ],
   "source": [
    "#p_value=p_value.aspype(int)\n",
    "alpha=0.05\n",
    "if p_value<alpha:\n",
    "    print('Reject hypotheses: average of NY-Nj users is not equal to average of other cties')\n",
    "else:\n",
    "    print('Fail to Reject hypotheses: we don\\'t have enough evidanceto say that averages of sample1 and other cities are not the same')"
   ]
  },
  {
   "cell_type": "markdown",
   "id": "404cc379",
   "metadata": {},
   "source": [
    "#### Conclusion"
   ]
  },
  {
   "cell_type": "markdown",
   "id": "89e2a3ec",
   "metadata": {},
   "source": [
    "To test the first hypotheses I calculated histograms that compare the averages of each plan on several parameters:\n",
    "* calls - surf  436.51, ultimate  434.67\n",
    "* data use - surf 16.72, ultimate 17.24\n",
    "* messages - surf 40.1, ultimate 46.29\n",
    "\n",
    "\n",
    "There are definite differences between the average measurements. The customers using surf, prefer to talk more on the phone, while ultimate subscribers use more data and on average text more.\n",
    "\n",
    "<b> Total revenue </b> the most interesting observation is that even though the Surf plan is much more popular it is not on average more profitable, the Ultimate plan is more profitable for the company on average."
   ]
  },
  {
   "cell_type": "markdown",
   "id": "98a546f0",
   "metadata": {},
   "source": [
    "For the second hypotheses I used the p_value. The p_value is the probability value, as the difference statistic between the mean and the value  compared it to, and the statistical significance. \n",
    "The p_value turned out to be 0.044, lower then 0.05 the null hypotheses is rejected.\n",
    "\n",
    "I decided the alpha would be the usual 0.05 (5%), which us the usual choice for alpha."
   ]
  },
  {
   "cell_type": "markdown",
   "id": "10b8b78e",
   "metadata": {},
   "source": [
    "### Step 5. Write an overall conclusion"
   ]
  },
  {
   "cell_type": "markdown",
   "id": "78051ac7",
   "metadata": {},
   "source": [
    "The preprocessing process included reorganizing the data of the three main data frames, grouping them in to months and rounding the call seconds and the mega bytes (I made sure to group up the column according to months before converting go gigabytes and rounding). I merged the three data framed and added two columns, one for the tariff and another one for the monthly income that I calculated according to the plans column.\n",
    "Using the histograms and boxplots I uncovered extreme values that are not in fact outliers, they are frequent users with specific preferences. Also the data set has some zero values that can be explained with the same logic, customers that use only phone calls to communicate or only text messages.\n",
    "\n",
    "While investigating the hypotheses I learned that there are definite differences between the average measurements. The customers using surf, prefer to talk more on the phone, while ultimate subscribers use more data and on average text more.\n",
    "\n",
    "From the histograms analyses that the Surf plan appears more frequently, and is more popular, however on average the Ultimate plan produces more revenue. This might have several business implications, maybe some of the Surf clients can be encouraged to change to the Ultimate plan based on their consumption of data and use of messages, or start a marketing campaign for Ultimate payment plan.   "
   ]
  },
  {
   "cell_type": "markdown",
   "id": "0a9122bd",
   "metadata": {},
   "source": [
    "Notes for developers:\n",
    "* 'id' column in messages_df - what does the number represent? Is it a time stamp?"
   ]
  }
 ],
 "metadata": {
  "ExecuteTimeLog": [
   {
    "duration": 1498,
    "start_time": "2021-11-16T21:47:28.841Z"
   },
   {
    "duration": 702,
    "start_time": "2021-11-16T21:47:30.342Z"
   },
   {
    "duration": -96,
    "start_time": "2021-11-16T21:47:31.146Z"
   },
   {
    "duration": -110,
    "start_time": "2021-11-16T21:47:31.162Z"
   },
   {
    "duration": -122,
    "start_time": "2021-11-16T21:47:31.176Z"
   },
   {
    "duration": -205,
    "start_time": "2021-11-16T21:47:31.260Z"
   },
   {
    "duration": -207,
    "start_time": "2021-11-16T21:47:31.264Z"
   },
   {
    "duration": -211,
    "start_time": "2021-11-16T21:47:31.269Z"
   },
   {
    "duration": -214,
    "start_time": "2021-11-16T21:47:31.274Z"
   },
   {
    "duration": -219,
    "start_time": "2021-11-16T21:47:31.280Z"
   },
   {
    "duration": -223,
    "start_time": "2021-11-16T21:47:31.286Z"
   },
   {
    "duration": -226,
    "start_time": "2021-11-16T21:47:31.290Z"
   },
   {
    "duration": -229,
    "start_time": "2021-11-16T21:47:31.295Z"
   },
   {
    "duration": -232,
    "start_time": "2021-11-16T21:47:31.299Z"
   },
   {
    "duration": -235,
    "start_time": "2021-11-16T21:47:31.304Z"
   },
   {
    "duration": -238,
    "start_time": "2021-11-16T21:47:31.309Z"
   },
   {
    "duration": -243,
    "start_time": "2021-11-16T21:47:31.315Z"
   },
   {
    "duration": -245,
    "start_time": "2021-11-16T21:47:31.319Z"
   },
   {
    "duration": -250,
    "start_time": "2021-11-16T21:47:31.325Z"
   },
   {
    "duration": -252,
    "start_time": "2021-11-16T21:47:31.329Z"
   },
   {
    "duration": -256,
    "start_time": "2021-11-16T21:47:31.334Z"
   },
   {
    "duration": -258,
    "start_time": "2021-11-16T21:47:31.338Z"
   },
   {
    "duration": -263,
    "start_time": "2021-11-16T21:47:31.344Z"
   },
   {
    "duration": -265,
    "start_time": "2021-11-16T21:47:31.348Z"
   },
   {
    "duration": -270,
    "start_time": "2021-11-16T21:47:31.354Z"
   },
   {
    "duration": -279,
    "start_time": "2021-11-16T21:47:31.365Z"
   },
   {
    "duration": -283,
    "start_time": "2021-11-16T21:47:31.370Z"
   },
   {
    "duration": -285,
    "start_time": "2021-11-16T21:47:31.374Z"
   },
   {
    "duration": -289,
    "start_time": "2021-11-16T21:47:31.379Z"
   },
   {
    "duration": -292,
    "start_time": "2021-11-16T21:47:31.384Z"
   },
   {
    "duration": -341,
    "start_time": "2021-11-16T21:47:31.434Z"
   },
   {
    "duration": -342,
    "start_time": "2021-11-16T21:47:31.437Z"
   },
   {
    "duration": -346,
    "start_time": "2021-11-16T21:47:31.442Z"
   },
   {
    "duration": -347,
    "start_time": "2021-11-16T21:47:31.445Z"
   },
   {
    "duration": -351,
    "start_time": "2021-11-16T21:47:31.450Z"
   },
   {
    "duration": -293,
    "start_time": "2021-11-16T21:47:31.454Z"
   },
   {
    "duration": -292,
    "start_time": "2021-11-16T21:47:31.457Z"
   },
   {
    "duration": -295,
    "start_time": "2021-11-16T21:47:31.461Z"
   },
   {
    "duration": -317,
    "start_time": "2021-11-16T21:47:31.484Z"
   },
   {
    "duration": -323,
    "start_time": "2021-11-16T21:47:31.492Z"
   },
   {
    "duration": -326,
    "start_time": "2021-11-16T21:47:31.496Z"
   },
   {
    "duration": -340,
    "start_time": "2021-11-16T21:47:31.512Z"
   },
   {
    "duration": -343,
    "start_time": "2021-11-16T21:47:31.517Z"
   },
   {
    "duration": -345,
    "start_time": "2021-11-16T21:47:31.520Z"
   },
   {
    "duration": -348,
    "start_time": "2021-11-16T21:47:31.524Z"
   },
   {
    "duration": -350,
    "start_time": "2021-11-16T21:47:31.528Z"
   },
   {
    "duration": -361,
    "start_time": "2021-11-16T21:47:31.541Z"
   },
   {
    "duration": -364,
    "start_time": "2021-11-16T21:47:31.545Z"
   },
   {
    "duration": -366,
    "start_time": "2021-11-16T21:47:31.549Z"
   },
   {
    "duration": -370,
    "start_time": "2021-11-16T21:47:31.554Z"
   },
   {
    "duration": -372,
    "start_time": "2021-11-16T21:47:31.558Z"
   },
   {
    "duration": -375,
    "start_time": "2021-11-16T21:47:31.562Z"
   },
   {
    "duration": -378,
    "start_time": "2021-11-16T21:47:31.566Z"
   },
   {
    "duration": -379,
    "start_time": "2021-11-16T21:47:31.569Z"
   },
   {
    "duration": -380,
    "start_time": "2021-11-16T21:47:31.573Z"
   },
   {
    "duration": -382,
    "start_time": "2021-11-16T21:47:31.577Z"
   },
   {
    "duration": -385,
    "start_time": "2021-11-16T21:47:31.582Z"
   },
   {
    "duration": -435,
    "start_time": "2021-11-16T21:47:31.633Z"
   },
   {
    "duration": -379,
    "start_time": "2021-11-16T21:47:31.638Z"
   },
   {
    "duration": -381,
    "start_time": "2021-11-16T21:47:31.642Z"
   },
   {
    "duration": -384,
    "start_time": "2021-11-16T21:47:31.646Z"
   },
   {
    "duration": -386,
    "start_time": "2021-11-16T21:47:31.650Z"
   },
   {
    "duration": -469,
    "start_time": "2021-11-16T21:47:31.734Z"
   },
   {
    "duration": -472,
    "start_time": "2021-11-16T21:47:31.738Z"
   },
   {
    "duration": -475,
    "start_time": "2021-11-16T21:47:31.742Z"
   },
   {
    "duration": -477,
    "start_time": "2021-11-16T21:47:31.746Z"
   },
   {
    "duration": -480,
    "start_time": "2021-11-16T21:47:31.750Z"
   },
   {
    "duration": -482,
    "start_time": "2021-11-16T21:47:31.753Z"
   },
   {
    "duration": 186,
    "start_time": "2021-11-16T21:48:26.625Z"
   },
   {
    "duration": 555,
    "start_time": "2021-11-16T21:49:33.513Z"
   },
   {
    "duration": -501,
    "start_time": "2021-11-16T21:50:14.793Z"
   },
   {
    "duration": -507,
    "start_time": "2021-11-16T21:50:14.800Z"
   },
   {
    "duration": -510,
    "start_time": "2021-11-16T21:50:14.805Z"
   },
   {
    "duration": -513,
    "start_time": "2021-11-16T21:50:14.809Z"
   },
   {
    "duration": -516,
    "start_time": "2021-11-16T21:50:14.813Z"
   },
   {
    "duration": -519,
    "start_time": "2021-11-16T21:50:14.817Z"
   },
   {
    "duration": -461,
    "start_time": "2021-11-16T21:50:14.821Z"
   },
   {
    "duration": -464,
    "start_time": "2021-11-16T21:50:14.825Z"
   },
   {
    "duration": -467,
    "start_time": "2021-11-16T21:50:14.829Z"
   },
   {
    "duration": -469,
    "start_time": "2021-11-16T21:50:14.832Z"
   },
   {
    "duration": -471,
    "start_time": "2021-11-16T21:50:14.836Z"
   },
   {
    "duration": -473,
    "start_time": "2021-11-16T21:50:14.839Z"
   },
   {
    "duration": -476,
    "start_time": "2021-11-16T21:50:14.843Z"
   },
   {
    "duration": -479,
    "start_time": "2021-11-16T21:50:14.847Z"
   },
   {
    "duration": -481,
    "start_time": "2021-11-16T21:50:14.851Z"
   },
   {
    "duration": -483,
    "start_time": "2021-11-16T21:50:14.854Z"
   },
   {
    "duration": -487,
    "start_time": "2021-11-16T21:50:14.859Z"
   },
   {
    "duration": -490,
    "start_time": "2021-11-16T21:50:14.863Z"
   },
   {
    "duration": -492,
    "start_time": "2021-11-16T21:50:14.867Z"
   },
   {
    "duration": -495,
    "start_time": "2021-11-16T21:50:14.871Z"
   },
   {
    "duration": -483,
    "start_time": "2021-11-16T21:50:14.876Z"
   },
   {
    "duration": 267,
    "start_time": "2021-11-16T21:50:14.395Z"
   },
   {
    "duration": -260,
    "start_time": "2021-11-16T21:50:14.924Z"
   },
   {
    "duration": -262,
    "start_time": "2021-11-16T21:50:14.928Z"
   },
   {
    "duration": -265,
    "start_time": "2021-11-16T21:50:14.932Z"
   },
   {
    "duration": -267,
    "start_time": "2021-11-16T21:50:14.936Z"
   },
   {
    "duration": -270,
    "start_time": "2021-11-16T21:50:14.940Z"
   },
   {
    "duration": -273,
    "start_time": "2021-11-16T21:50:14.944Z"
   },
   {
    "duration": -276,
    "start_time": "2021-11-16T21:50:14.948Z"
   },
   {
    "duration": -278,
    "start_time": "2021-11-16T21:50:14.951Z"
   },
   {
    "duration": -280,
    "start_time": "2021-11-16T21:50:14.955Z"
   },
   {
    "duration": -283,
    "start_time": "2021-11-16T21:50:14.959Z"
   },
   {
    "duration": -287,
    "start_time": "2021-11-16T21:50:14.964Z"
   },
   {
    "duration": -289,
    "start_time": "2021-11-16T21:50:14.967Z"
   },
   {
    "duration": -292,
    "start_time": "2021-11-16T21:50:14.972Z"
   },
   {
    "duration": -295,
    "start_time": "2021-11-16T21:50:14.976Z"
   },
   {
    "duration": -299,
    "start_time": "2021-11-16T21:50:14.981Z"
   },
   {
    "duration": -302,
    "start_time": "2021-11-16T21:50:14.985Z"
   },
   {
    "duration": -314,
    "start_time": "2021-11-16T21:50:14.998Z"
   },
   {
    "duration": -317,
    "start_time": "2021-11-16T21:50:15.003Z"
   },
   {
    "duration": -320,
    "start_time": "2021-11-16T21:50:15.007Z"
   },
   {
    "duration": -323,
    "start_time": "2021-11-16T21:50:15.011Z"
   },
   {
    "duration": -327,
    "start_time": "2021-11-16T21:50:15.016Z"
   },
   {
    "duration": -330,
    "start_time": "2021-11-16T21:50:15.020Z"
   },
   {
    "duration": -333,
    "start_time": "2021-11-16T21:50:15.024Z"
   },
   {
    "duration": -334,
    "start_time": "2021-11-16T21:50:15.027Z"
   },
   {
    "duration": -337,
    "start_time": "2021-11-16T21:50:15.031Z"
   },
   {
    "duration": -342,
    "start_time": "2021-11-16T21:50:15.037Z"
   },
   {
    "duration": -347,
    "start_time": "2021-11-16T21:50:15.043Z"
   },
   {
    "duration": -349,
    "start_time": "2021-11-16T21:50:15.047Z"
   },
   {
    "duration": -353,
    "start_time": "2021-11-16T21:50:15.052Z"
   },
   {
    "duration": -355,
    "start_time": "2021-11-16T21:50:15.056Z"
   },
   {
    "duration": -296,
    "start_time": "2021-11-16T21:50:15.059Z"
   },
   {
    "duration": -300,
    "start_time": "2021-11-16T21:50:15.064Z"
   },
   {
    "duration": -301,
    "start_time": "2021-11-16T21:50:15.067Z"
   },
   {
    "duration": -304,
    "start_time": "2021-11-16T21:50:15.071Z"
   },
   {
    "duration": -306,
    "start_time": "2021-11-16T21:50:15.075Z"
   },
   {
    "duration": -309,
    "start_time": "2021-11-16T21:50:15.079Z"
   },
   {
    "duration": -310,
    "start_time": "2021-11-16T21:50:15.082Z"
   },
   {
    "duration": -313,
    "start_time": "2021-11-16T21:50:15.086Z"
   },
   {
    "duration": -314,
    "start_time": "2021-11-16T21:50:15.089Z"
   },
   {
    "duration": -317,
    "start_time": "2021-11-16T21:50:15.093Z"
   },
   {
    "duration": -363,
    "start_time": "2021-11-16T21:50:15.141Z"
   },
   {
    "duration": -368,
    "start_time": "2021-11-16T21:50:15.147Z"
   },
   {
    "duration": -371,
    "start_time": "2021-11-16T21:50:15.152Z"
   },
   {
    "duration": -376,
    "start_time": "2021-11-16T21:50:15.158Z"
   },
   {
    "duration": -379,
    "start_time": "2021-11-16T21:50:15.162Z"
   },
   {
    "duration": -382,
    "start_time": "2021-11-16T21:50:15.167Z"
   },
   {
    "duration": -386,
    "start_time": "2021-11-16T21:50:15.172Z"
   },
   {
    "duration": -208,
    "start_time": "2021-11-16T21:51:08.984Z"
   },
   {
    "duration": -219,
    "start_time": "2021-11-16T21:51:08.997Z"
   },
   {
    "duration": -225,
    "start_time": "2021-11-16T21:51:09.004Z"
   },
   {
    "duration": -229,
    "start_time": "2021-11-16T21:51:09.009Z"
   },
   {
    "duration": -232,
    "start_time": "2021-11-16T21:51:09.014Z"
   },
   {
    "duration": -234,
    "start_time": "2021-11-16T21:51:09.018Z"
   },
   {
    "duration": -236,
    "start_time": "2021-11-16T21:51:09.022Z"
   },
   {
    "duration": -238,
    "start_time": "2021-11-16T21:51:09.026Z"
   },
   {
    "duration": -240,
    "start_time": "2021-11-16T21:51:09.030Z"
   },
   {
    "duration": -249,
    "start_time": "2021-11-16T21:51:09.041Z"
   },
   {
    "duration": -253,
    "start_time": "2021-11-16T21:51:09.047Z"
   },
   {
    "duration": -255,
    "start_time": "2021-11-16T21:51:09.051Z"
   },
   {
    "duration": -257,
    "start_time": "2021-11-16T21:51:09.054Z"
   },
   {
    "duration": -199,
    "start_time": "2021-11-16T21:51:09.058Z"
   },
   {
    "duration": -212,
    "start_time": "2021-11-16T21:51:09.073Z"
   },
   {
    "duration": -214,
    "start_time": "2021-11-16T21:51:09.077Z"
   },
   {
    "duration": -224,
    "start_time": "2021-11-16T21:51:09.088Z"
   },
   {
    "duration": -254,
    "start_time": "2021-11-16T21:51:09.119Z"
   },
   {
    "duration": -257,
    "start_time": "2021-11-16T21:51:09.124Z"
   },
   {
    "duration": -259,
    "start_time": "2021-11-16T21:51:09.127Z"
   },
   {
    "duration": -324,
    "start_time": "2021-11-16T21:51:09.194Z"
   },
   {
    "duration": -379,
    "start_time": "2021-11-16T21:51:09.250Z"
   },
   {
    "duration": -382,
    "start_time": "2021-11-16T21:51:09.255Z"
   },
   {
    "duration": -387,
    "start_time": "2021-11-16T21:51:09.261Z"
   },
   {
    "duration": -393,
    "start_time": "2021-11-16T21:51:09.268Z"
   },
   {
    "duration": -396,
    "start_time": "2021-11-16T21:51:09.273Z"
   },
   {
    "duration": -401,
    "start_time": "2021-11-16T21:51:09.279Z"
   },
   {
    "duration": -406,
    "start_time": "2021-11-16T21:51:09.286Z"
   },
   {
    "duration": -411,
    "start_time": "2021-11-16T21:51:09.292Z"
   },
   {
    "duration": -415,
    "start_time": "2021-11-16T21:51:09.298Z"
   },
   {
    "duration": -419,
    "start_time": "2021-11-16T21:51:09.303Z"
   },
   {
    "duration": -569,
    "start_time": "2021-11-16T21:51:09.454Z"
   },
   {
    "duration": -622,
    "start_time": "2021-11-16T21:51:09.509Z"
   },
   {
    "duration": -625,
    "start_time": "2021-11-16T21:51:09.513Z"
   },
   {
    "duration": -628,
    "start_time": "2021-11-16T21:51:09.518Z"
   },
   {
    "duration": -631,
    "start_time": "2021-11-16T21:51:09.522Z"
   },
   {
    "duration": -634,
    "start_time": "2021-11-16T21:51:09.527Z"
   },
   {
    "duration": -637,
    "start_time": "2021-11-16T21:51:09.531Z"
   },
   {
    "duration": -639,
    "start_time": "2021-11-16T21:51:09.535Z"
   },
   {
    "duration": -642,
    "start_time": "2021-11-16T21:51:09.539Z"
   },
   {
    "duration": -576,
    "start_time": "2021-11-16T21:51:09.544Z"
   },
   {
    "duration": -578,
    "start_time": "2021-11-16T21:51:09.548Z"
   },
   {
    "duration": -609,
    "start_time": "2021-11-16T21:51:09.580Z"
   },
   {
    "duration": -633,
    "start_time": "2021-11-16T21:51:09.606Z"
   },
   {
    "duration": -636,
    "start_time": "2021-11-16T21:51:09.611Z"
   },
   {
    "duration": -639,
    "start_time": "2021-11-16T21:51:09.615Z"
   },
   {
    "duration": -641,
    "start_time": "2021-11-16T21:51:09.619Z"
   },
   {
    "duration": -644,
    "start_time": "2021-11-16T21:51:09.623Z"
   },
   {
    "duration": -647,
    "start_time": "2021-11-16T21:51:09.628Z"
   },
   {
    "duration": -648,
    "start_time": "2021-11-16T21:51:09.632Z"
   },
   {
    "duration": -649,
    "start_time": "2021-11-16T21:51:09.636Z"
   },
   {
    "duration": -651,
    "start_time": "2021-11-16T21:51:09.640Z"
   },
   {
    "duration": -653,
    "start_time": "2021-11-16T21:51:09.644Z"
   },
   {
    "duration": -654,
    "start_time": "2021-11-16T21:51:09.648Z"
   },
   {
    "duration": -658,
    "start_time": "2021-11-16T21:51:09.653Z"
   },
   {
    "duration": -659,
    "start_time": "2021-11-16T21:51:09.656Z"
   },
   {
    "duration": -602,
    "start_time": "2021-11-16T21:51:09.661Z"
   },
   {
    "duration": -603,
    "start_time": "2021-11-16T21:51:09.665Z"
   },
   {
    "duration": -607,
    "start_time": "2021-11-16T21:51:09.671Z"
   },
   {
    "duration": -609,
    "start_time": "2021-11-16T21:51:09.675Z"
   },
   {
    "duration": -611,
    "start_time": "2021-11-16T21:51:09.679Z"
   },
   {
    "duration": -613,
    "start_time": "2021-11-16T21:51:09.683Z"
   },
   {
    "duration": -615,
    "start_time": "2021-11-16T21:51:09.687Z"
   },
   {
    "duration": -616,
    "start_time": "2021-11-16T21:51:09.690Z"
   },
   {
    "duration": -620,
    "start_time": "2021-11-16T21:51:09.696Z"
   },
   {
    "duration": -622,
    "start_time": "2021-11-16T21:51:09.700Z"
   },
   {
    "duration": -624,
    "start_time": "2021-11-16T21:51:09.704Z"
   },
   {
    "duration": -637,
    "start_time": "2021-11-16T21:51:09.720Z"
   },
   {
    "duration": -641,
    "start_time": "2021-11-16T21:51:09.725Z"
   },
   {
    "duration": 6,
    "start_time": "2021-11-16T21:51:25.035Z"
   },
   {
    "duration": 3,
    "start_time": "2021-11-16T21:51:26.235Z"
   },
   {
    "duration": 569,
    "start_time": "2021-11-16T21:51:26.826Z"
   },
   {
    "duration": 292,
    "start_time": "2021-11-16T21:51:28.204Z"
   },
   {
    "duration": -94,
    "start_time": "2021-11-16T21:51:28.594Z"
   },
   {
    "duration": 403,
    "start_time": "2021-11-16T21:51:28.886Z"
   },
   {
    "duration": -92,
    "start_time": "2021-11-16T21:51:29.384Z"
   },
   {
    "duration": 363,
    "start_time": "2021-11-16T21:51:41.034Z"
   },
   {
    "duration": 561,
    "start_time": "2021-11-16T21:52:07.818Z"
   },
   {
    "duration": 25,
    "start_time": "2021-11-16T21:52:26.003Z"
   },
   {
    "duration": 33,
    "start_time": "2021-11-16T21:52:45.072Z"
   },
   {
    "duration": 37,
    "start_time": "2021-11-16T21:52:45.107Z"
   },
   {
    "duration": 798,
    "start_time": "2021-11-16T21:52:45.147Z"
   },
   {
    "duration": 17,
    "start_time": "2021-11-16T21:52:45.947Z"
   },
   {
    "duration": 27,
    "start_time": "2021-11-16T21:52:45.966Z"
   },
   {
    "duration": 24,
    "start_time": "2021-11-16T21:52:45.996Z"
   },
   {
    "duration": 47,
    "start_time": "2021-11-16T21:52:46.033Z"
   },
   {
    "duration": 26,
    "start_time": "2021-11-16T21:52:46.086Z"
   },
   {
    "duration": 14,
    "start_time": "2021-11-16T21:52:46.115Z"
   },
   {
    "duration": 20,
    "start_time": "2021-11-16T21:52:46.161Z"
   },
   {
    "duration": 17,
    "start_time": "2021-11-16T21:52:46.183Z"
   },
   {
    "duration": 23,
    "start_time": "2021-11-16T21:52:46.202Z"
   },
   {
    "duration": 32,
    "start_time": "2021-11-16T21:52:46.227Z"
   },
   {
    "duration": 20,
    "start_time": "2021-11-16T21:52:46.261Z"
   },
   {
    "duration": 39,
    "start_time": "2021-11-16T21:52:46.284Z"
   },
   {
    "duration": 31,
    "start_time": "2021-11-16T21:52:46.326Z"
   },
   {
    "duration": 36,
    "start_time": "2021-11-16T21:52:46.359Z"
   },
   {
    "duration": 24,
    "start_time": "2021-11-16T21:52:46.397Z"
   },
   {
    "duration": 30,
    "start_time": "2021-11-16T21:52:46.432Z"
   },
   {
    "duration": 39,
    "start_time": "2021-11-16T21:52:46.465Z"
   },
   {
    "duration": 10,
    "start_time": "2021-11-16T21:52:46.507Z"
   },
   {
    "duration": 51,
    "start_time": "2021-11-16T21:52:46.519Z"
   },
   {
    "duration": 19,
    "start_time": "2021-11-16T21:52:46.573Z"
   },
   {
    "duration": 16,
    "start_time": "2021-11-16T21:52:46.594Z"
   },
   {
    "duration": 16,
    "start_time": "2021-11-16T21:52:46.612Z"
   },
   {
    "duration": 3,
    "start_time": "2021-11-16T21:52:46.631Z"
   },
   {
    "duration": 26,
    "start_time": "2021-11-16T21:52:46.660Z"
   },
   {
    "duration": 15,
    "start_time": "2021-11-16T21:52:46.689Z"
   },
   {
    "duration": 17,
    "start_time": "2021-11-16T21:52:46.706Z"
   },
   {
    "duration": 10,
    "start_time": "2021-11-16T21:52:46.725Z"
   },
   {
    "duration": 47,
    "start_time": "2021-11-16T21:52:46.737Z"
   },
   {
    "duration": 15,
    "start_time": "2021-11-16T21:52:46.787Z"
   },
   {
    "duration": 12,
    "start_time": "2021-11-16T21:52:46.804Z"
   },
   {
    "duration": 54,
    "start_time": "2021-11-16T21:52:46.818Z"
   },
   {
    "duration": 454,
    "start_time": "2021-11-16T21:52:46.874Z"
   },
   {
    "duration": -328,
    "start_time": "2021-11-16T21:52:47.659Z"
   },
   {
    "duration": -332,
    "start_time": "2021-11-16T21:52:47.665Z"
   },
   {
    "duration": -335,
    "start_time": "2021-11-16T21:52:47.669Z"
   },
   {
    "duration": -338,
    "start_time": "2021-11-16T21:52:47.673Z"
   },
   {
    "duration": -340,
    "start_time": "2021-11-16T21:52:47.677Z"
   },
   {
    "duration": -344,
    "start_time": "2021-11-16T21:52:47.682Z"
   },
   {
    "duration": -347,
    "start_time": "2021-11-16T21:52:47.686Z"
   },
   {
    "duration": -349,
    "start_time": "2021-11-16T21:52:47.690Z"
   },
   {
    "duration": -352,
    "start_time": "2021-11-16T21:52:47.694Z"
   },
   {
    "duration": -365,
    "start_time": "2021-11-16T21:52:47.708Z"
   },
   {
    "duration": -369,
    "start_time": "2021-11-16T21:52:47.714Z"
   },
   {
    "duration": -373,
    "start_time": "2021-11-16T21:52:47.719Z"
   },
   {
    "duration": -376,
    "start_time": "2021-11-16T21:52:47.723Z"
   },
   {
    "duration": -378,
    "start_time": "2021-11-16T21:52:47.727Z"
   },
   {
    "duration": -382,
    "start_time": "2021-11-16T21:52:47.732Z"
   },
   {
    "duration": -385,
    "start_time": "2021-11-16T21:52:47.737Z"
   },
   {
    "duration": -389,
    "start_time": "2021-11-16T21:52:47.742Z"
   },
   {
    "duration": -393,
    "start_time": "2021-11-16T21:52:47.747Z"
   },
   {
    "duration": -396,
    "start_time": "2021-11-16T21:52:47.752Z"
   },
   {
    "duration": -399,
    "start_time": "2021-11-16T21:52:47.756Z"
   },
   {
    "duration": -401,
    "start_time": "2021-11-16T21:52:47.760Z"
   },
   {
    "duration": -405,
    "start_time": "2021-11-16T21:52:47.765Z"
   },
   {
    "duration": -409,
    "start_time": "2021-11-16T21:52:47.770Z"
   },
   {
    "duration": -411,
    "start_time": "2021-11-16T21:52:47.774Z"
   },
   {
    "duration": -414,
    "start_time": "2021-11-16T21:52:47.778Z"
   },
   {
    "duration": -417,
    "start_time": "2021-11-16T21:52:47.783Z"
   },
   {
    "duration": -437,
    "start_time": "2021-11-16T21:52:47.804Z"
   },
   {
    "duration": -489,
    "start_time": "2021-11-16T21:52:47.857Z"
   },
   {
    "duration": -497,
    "start_time": "2021-11-16T21:52:47.867Z"
   },
   {
    "duration": -514,
    "start_time": "2021-11-16T21:52:47.885Z"
   },
   {
    "duration": -519,
    "start_time": "2021-11-16T21:52:47.891Z"
   },
   {
    "duration": -532,
    "start_time": "2021-11-16T21:52:47.906Z"
   },
   {
    "duration": -540,
    "start_time": "2021-11-16T21:52:47.915Z"
   },
   {
    "duration": -550,
    "start_time": "2021-11-16T21:52:47.926Z"
   },
   {
    "duration": -557,
    "start_time": "2021-11-16T21:52:47.935Z"
   },
   {
    "duration": 605,
    "start_time": "2021-11-17T06:15:00.176Z"
   },
   {
    "duration": 1076,
    "start_time": "2021-11-17T06:15:35.135Z"
   },
   {
    "duration": 436,
    "start_time": "2021-11-17T06:15:38.018Z"
   },
   {
    "duration": 312,
    "start_time": "2021-11-17T06:42:15.886Z"
   },
   {
    "duration": 4,
    "start_time": "2021-11-17T06:43:30.803Z"
   },
   {
    "duration": 432,
    "start_time": "2021-11-17T06:43:35.849Z"
   },
   {
    "duration": 14,
    "start_time": "2021-11-17T06:43:41.080Z"
   },
   {
    "duration": 8,
    "start_time": "2021-11-17T06:43:47.410Z"
   },
   {
    "duration": 15,
    "start_time": "2021-11-17T06:43:49.507Z"
   },
   {
    "duration": 8,
    "start_time": "2021-11-17T06:43:52.479Z"
   },
   {
    "duration": 14,
    "start_time": "2021-11-17T06:43:54.229Z"
   },
   {
    "duration": 6,
    "start_time": "2021-11-17T06:43:56.114Z"
   },
   {
    "duration": 6,
    "start_time": "2021-11-17T06:44:00.624Z"
   },
   {
    "duration": 7,
    "start_time": "2021-11-17T06:44:01.786Z"
   },
   {
    "duration": 248,
    "start_time": "2021-11-17T06:44:06.569Z"
   },
   {
    "duration": 5,
    "start_time": "2021-11-17T06:46:16.923Z"
   },
   {
    "duration": 506,
    "start_time": "2021-11-17T06:46:21.658Z"
   },
   {
    "duration": 4,
    "start_time": "2021-11-17T06:48:26.280Z"
   },
   {
    "duration": 3,
    "start_time": "2021-11-17T06:48:27.668Z"
   },
   {
    "duration": 489,
    "start_time": "2021-11-17T06:48:29.827Z"
   },
   {
    "duration": 10,
    "start_time": "2021-11-17T06:48:34.786Z"
   },
   {
    "duration": 7,
    "start_time": "2021-11-17T06:48:37.455Z"
   },
   {
    "duration": 11,
    "start_time": "2021-11-17T06:48:46.447Z"
   },
   {
    "duration": 15,
    "start_time": "2021-11-17T06:48:49.264Z"
   },
   {
    "duration": 9,
    "start_time": "2021-11-17T06:48:52.784Z"
   },
   {
    "duration": 14,
    "start_time": "2021-11-17T06:48:54.728Z"
   },
   {
    "duration": 7,
    "start_time": "2021-11-17T06:48:56.508Z"
   },
   {
    "duration": 15,
    "start_time": "2021-11-17T06:48:58.002Z"
   },
   {
    "duration": 5,
    "start_time": "2021-11-17T06:48:59.827Z"
   },
   {
    "duration": 6,
    "start_time": "2021-11-17T06:49:00.503Z"
   },
   {
    "duration": 3,
    "start_time": "2021-11-17T06:49:02.146Z"
   },
   {
    "duration": 8,
    "start_time": "2021-11-17T06:49:02.822Z"
   },
   {
    "duration": 11,
    "start_time": "2021-11-17T06:49:05.068Z"
   },
   {
    "duration": 6,
    "start_time": "2021-11-17T06:49:09.608Z"
   },
   {
    "duration": 9,
    "start_time": "2021-11-17T06:49:40.528Z"
   },
   {
    "duration": 25,
    "start_time": "2021-11-17T06:49:55.785Z"
   },
   {
    "duration": 14,
    "start_time": "2021-11-17T06:56:02.977Z"
   },
   {
    "duration": 9,
    "start_time": "2021-11-17T06:56:04.089Z"
   },
   {
    "duration": 19,
    "start_time": "2021-11-17T06:56:28.212Z"
   },
   {
    "duration": 7,
    "start_time": "2021-11-17T06:56:28.866Z"
   },
   {
    "duration": 21,
    "start_time": "2021-11-17T06:56:32.400Z"
   },
   {
    "duration": 15,
    "start_time": "2021-11-17T06:56:33.113Z"
   },
   {
    "duration": 11,
    "start_time": "2021-11-17T06:57:38.914Z"
   },
   {
    "duration": 7,
    "start_time": "2021-11-17T06:57:41.047Z"
   },
   {
    "duration": -912,
    "start_time": "2021-11-17T06:57:51.937Z"
   },
   {
    "duration": 7231,
    "start_time": "2021-11-17T06:57:54.205Z"
   },
   {
    "duration": 3,
    "start_time": "2021-11-17T06:59:01.586Z"
   },
   {
    "duration": 6,
    "start_time": "2021-11-17T06:59:16.516Z"
   },
   {
    "duration": 3,
    "start_time": "2021-11-17T07:00:02.242Z"
   },
   {
    "duration": 3,
    "start_time": "2021-11-17T07:03:54.530Z"
   },
   {
    "duration": 17,
    "start_time": "2021-11-17T07:03:56.484Z"
   },
   {
    "duration": 13,
    "start_time": "2021-11-17T07:03:58.722Z"
   },
   {
    "duration": 12,
    "start_time": "2021-11-17T07:04:04.130Z"
   },
   {
    "duration": 7,
    "start_time": "2021-11-17T07:04:06.977Z"
   },
   {
    "duration": 20,
    "start_time": "2021-11-17T07:04:13.200Z"
   },
   {
    "duration": 14,
    "start_time": "2021-11-17T07:04:19.930Z"
   },
   {
    "duration": 11,
    "start_time": "2021-11-17T07:04:22.082Z"
   },
   {
    "duration": 9,
    "start_time": "2021-11-17T07:04:23.827Z"
   },
   {
    "duration": 294,
    "start_time": "2021-11-17T07:04:25.945Z"
   },
   {
    "duration": 465,
    "start_time": "2021-11-17T07:05:34.258Z"
   },
   {
    "duration": 15,
    "start_time": "2021-11-17T07:05:51.687Z"
   },
   {
    "duration": 14,
    "start_time": "2021-11-17T07:07:18.182Z"
   },
   {
    "duration": 6,
    "start_time": "2021-11-17T07:07:34.887Z"
   },
   {
    "duration": 7,
    "start_time": "2021-11-17T07:07:34.895Z"
   },
   {
    "duration": 564,
    "start_time": "2021-11-17T07:08:03.553Z"
   },
   {
    "duration": 15,
    "start_time": "2021-11-17T07:08:10.021Z"
   },
   {
    "duration": 11,
    "start_time": "2021-11-17T07:08:14.036Z"
   },
   {
    "duration": 15,
    "start_time": "2021-11-17T07:08:15.687Z"
   },
   {
    "duration": 7,
    "start_time": "2021-11-17T07:08:17.266Z"
   },
   {
    "duration": 13,
    "start_time": "2021-11-17T07:08:19.085Z"
   },
   {
    "duration": 7,
    "start_time": "2021-11-17T07:08:20.939Z"
   },
   {
    "duration": 10,
    "start_time": "2021-11-17T07:08:22.918Z"
   },
   {
    "duration": 5,
    "start_time": "2021-11-17T07:08:24.675Z"
   },
   {
    "duration": 6,
    "start_time": "2021-11-17T07:08:25.603Z"
   },
   {
    "duration": 8,
    "start_time": "2021-11-17T07:08:28.775Z"
   },
   {
    "duration": 8,
    "start_time": "2021-11-17T07:08:30.628Z"
   },
   {
    "duration": 6,
    "start_time": "2021-11-17T07:08:33.029Z"
   },
   {
    "duration": 17,
    "start_time": "2021-11-17T07:08:35.660Z"
   },
   {
    "duration": 16,
    "start_time": "2021-11-17T07:08:36.571Z"
   },
   {
    "duration": 8,
    "start_time": "2021-11-17T07:08:37.300Z"
   },
   {
    "duration": 16,
    "start_time": "2021-11-17T07:08:38.986Z"
   },
   {
    "duration": 7,
    "start_time": "2021-11-17T07:08:39.707Z"
   },
   {
    "duration": 14,
    "start_time": "2021-11-17T07:08:42.315Z"
   },
   {
    "duration": 13,
    "start_time": "2021-11-17T07:08:43.315Z"
   },
   {
    "duration": 13,
    "start_time": "2021-11-17T07:08:44.102Z"
   },
   {
    "duration": 2,
    "start_time": "2021-11-17T07:08:44.829Z"
   },
   {
    "duration": 3,
    "start_time": "2021-11-17T07:08:47.350Z"
   },
   {
    "duration": 11,
    "start_time": "2021-11-17T07:08:48.020Z"
   },
   {
    "duration": 11,
    "start_time": "2021-11-17T07:08:49.068Z"
   },
   {
    "duration": 12,
    "start_time": "2021-11-17T07:08:50.146Z"
   },
   {
    "duration": 7,
    "start_time": "2021-11-17T07:08:51.043Z"
   },
   {
    "duration": 16,
    "start_time": "2021-11-17T07:08:53.496Z"
   },
   {
    "duration": 11,
    "start_time": "2021-11-17T07:08:55.348Z"
   },
   {
    "duration": 7,
    "start_time": "2021-11-17T07:08:57.151Z"
   },
   {
    "duration": 10,
    "start_time": "2021-11-17T07:08:59.002Z"
   },
   {
    "duration": 11,
    "start_time": "2021-11-17T07:09:00.957Z"
   },
   {
    "duration": 5,
    "start_time": "2021-11-17T07:09:06.771Z"
   },
   {
    "duration": 62,
    "start_time": "2021-11-17T07:09:09.685Z"
   },
   {
    "duration": 9,
    "start_time": "2021-11-17T07:09:11.211Z"
   },
   {
    "duration": 62,
    "start_time": "2021-11-17T07:14:24.614Z"
   },
   {
    "duration": 9,
    "start_time": "2021-11-17T07:14:25.562Z"
   },
   {
    "duration": 6,
    "start_time": "2021-11-17T07:14:28.575Z"
   },
   {
    "duration": 23,
    "start_time": "2021-11-17T07:14:30.254Z"
   },
   {
    "duration": 5,
    "start_time": "2021-11-17T07:14:31.793Z"
   },
   {
    "duration": 520,
    "start_time": "2021-11-17T07:14:33.209Z"
   },
   {
    "duration": 238,
    "start_time": "2021-11-17T07:14:56.470Z"
   },
   {
    "duration": 177,
    "start_time": "2021-11-17T07:15:09.389Z"
   },
   {
    "duration": 162,
    "start_time": "2021-11-17T07:15:20.655Z"
   },
   {
    "duration": 131,
    "start_time": "2021-11-17T07:15:23.965Z"
   },
   {
    "duration": 416,
    "start_time": "2021-11-17T07:15:26.123Z"
   },
   {
    "duration": 410,
    "start_time": "2021-11-17T07:16:32.050Z"
   },
   {
    "duration": 7,
    "start_time": "2021-11-17T07:16:40.596Z"
   },
   {
    "duration": 280,
    "start_time": "2021-11-17T07:16:42.219Z"
   },
   {
    "duration": 8,
    "start_time": "2021-11-17T07:16:48.462Z"
   },
   {
    "duration": 126,
    "start_time": "2021-11-17T07:16:51.461Z"
   },
   {
    "duration": 2,
    "start_time": "2021-11-17T07:16:53.521Z"
   },
   {
    "duration": 4,
    "start_time": "2021-11-17T07:17:26.807Z"
   },
   {
    "duration": 804,
    "start_time": "2021-11-17T07:17:28.784Z"
   },
   {
    "duration": 4,
    "start_time": "2021-11-17T07:18:30.449Z"
   },
   {
    "duration": 4,
    "start_time": "2021-11-17T07:18:37.517Z"
   },
   {
    "duration": 2,
    "start_time": "2021-11-17T07:18:38.420Z"
   },
   {
    "duration": 4,
    "start_time": "2021-11-17T07:18:39.045Z"
   },
   {
    "duration": 719,
    "start_time": "2021-11-17T07:18:46.381Z"
   },
   {
    "duration": 4,
    "start_time": "2021-11-17T07:26:00.192Z"
   },
   {
    "duration": 403,
    "start_time": "2021-11-17T07:26:19.261Z"
   },
   {
    "duration": 391,
    "start_time": "2021-11-17T07:26:21.005Z"
   },
   {
    "duration": 781,
    "start_time": "2021-11-17T07:27:08.771Z"
   },
   {
    "duration": 760,
    "start_time": "2021-11-17T07:27:12.773Z"
   },
   {
    "duration": 4,
    "start_time": "2021-11-17T07:27:19.119Z"
   },
   {
    "duration": 816,
    "start_time": "2021-11-17T07:27:20.374Z"
   },
   {
    "duration": 4,
    "start_time": "2021-11-17T07:31:41.118Z"
   },
   {
    "duration": 559,
    "start_time": "2021-11-17T07:33:50.551Z"
   },
   {
    "duration": 3,
    "start_time": "2021-11-17T07:37:58.725Z"
   },
   {
    "duration": 4,
    "start_time": "2021-11-17T07:39:40.000Z"
   },
   {
    "duration": 42,
    "start_time": "2021-11-17T07:39:48.596Z"
   },
   {
    "duration": 11603,
    "start_time": "2021-11-17T07:40:21.071Z"
   },
   {
    "duration": 276,
    "start_time": "2021-11-17T07:41:31.125Z"
   },
   {
    "duration": 13852,
    "start_time": "2021-11-17T07:41:56.427Z"
   },
   {
    "duration": 3,
    "start_time": "2021-11-17T07:42:19.156Z"
   },
   {
    "duration": 593,
    "start_time": "2021-11-17T07:43:15.704Z"
   },
   {
    "duration": 255,
    "start_time": "2021-11-17T07:43:42.998Z"
   },
   {
    "duration": 133,
    "start_time": "2021-11-17T07:44:23.283Z"
   },
   {
    "duration": 6,
    "start_time": "2021-11-17T07:44:32.885Z"
   },
   {
    "duration": 140,
    "start_time": "2021-11-17T07:44:49.597Z"
   },
   {
    "duration": 4,
    "start_time": "2021-11-17T07:45:17.916Z"
   },
   {
    "duration": 3,
    "start_time": "2021-11-17T07:45:26.653Z"
   },
   {
    "duration": 4,
    "start_time": "2021-11-17T07:45:31.375Z"
   },
   {
    "duration": 195,
    "start_time": "2021-11-17T07:46:00.895Z"
   },
   {
    "duration": 4,
    "start_time": "2021-11-17T07:49:16.246Z"
   },
   {
    "duration": 581,
    "start_time": "2021-11-17T07:50:14.599Z"
   },
   {
    "duration": 380,
    "start_time": "2021-11-17T08:47:34.295Z"
   },
   {
    "duration": 7,
    "start_time": "2021-11-17T08:47:36.986Z"
   },
   {
    "duration": 8,
    "start_time": "2021-11-17T08:47:38.905Z"
   },
   {
    "duration": 2,
    "start_time": "2021-11-17T08:48:27.643Z"
   },
   {
    "duration": 4,
    "start_time": "2021-11-17T08:48:28.644Z"
   },
   {
    "duration": 797,
    "start_time": "2021-11-17T08:48:31.207Z"
   },
   {
    "duration": 4,
    "start_time": "2021-11-17T09:00:48.210Z"
   },
   {
    "duration": 3,
    "start_time": "2021-11-17T09:02:03.834Z"
   },
   {
    "duration": 3,
    "start_time": "2021-11-17T09:02:04.818Z"
   },
   {
    "duration": 694,
    "start_time": "2021-11-17T09:02:05.614Z"
   },
   {
    "duration": 3,
    "start_time": "2021-11-17T09:02:30.416Z"
   },
   {
    "duration": 4,
    "start_time": "2021-11-17T09:03:18.243Z"
   },
   {
    "duration": 3,
    "start_time": "2021-11-17T09:03:42.898Z"
   },
   {
    "duration": 57910,
    "start_time": "2021-11-17T09:06:30.609Z"
   },
   {
    "duration": 3531,
    "start_time": "2021-11-17T09:08:02.616Z"
   },
   {
    "duration": 88,
    "start_time": "2021-11-17T09:08:23.892Z"
   },
   {
    "duration": 3,
    "start_time": "2021-11-17T09:08:32.668Z"
   },
   {
    "duration": 724,
    "start_time": "2021-11-17T09:08:40.595Z"
   },
   {
    "duration": 1043,
    "start_time": "2021-11-17T09:17:59.654Z"
   },
   {
    "duration": 264653,
    "start_time": "2021-11-17T09:18:06.562Z"
   },
   {
    "duration": 750,
    "start_time": "2021-11-17T09:22:31.217Z"
   },
   {
    "duration": 15,
    "start_time": "2021-11-17T09:22:57.825Z"
   },
   {
    "duration": 8,
    "start_time": "2021-11-17T09:22:58.823Z"
   },
   {
    "duration": 14,
    "start_time": "2021-11-17T09:22:59.512Z"
   },
   {
    "duration": 8,
    "start_time": "2021-11-17T09:23:00.039Z"
   },
   {
    "duration": 13,
    "start_time": "2021-11-17T09:23:00.721Z"
   },
   {
    "duration": 7,
    "start_time": "2021-11-17T09:23:01.294Z"
   },
   {
    "duration": 11,
    "start_time": "2021-11-17T09:23:01.972Z"
   },
   {
    "duration": 8,
    "start_time": "2021-11-17T09:23:02.547Z"
   },
   {
    "duration": 7,
    "start_time": "2021-11-17T09:23:03.231Z"
   },
   {
    "duration": 3,
    "start_time": "2021-11-17T09:23:03.933Z"
   },
   {
    "duration": 11,
    "start_time": "2021-11-17T09:23:04.672Z"
   },
   {
    "duration": 13,
    "start_time": "2021-11-17T09:23:05.783Z"
   },
   {
    "duration": 8,
    "start_time": "2021-11-17T09:23:09.156Z"
   },
   {
    "duration": 20,
    "start_time": "2021-11-17T09:23:11.485Z"
   },
   {
    "duration": 16,
    "start_time": "2021-11-17T09:23:12.093Z"
   },
   {
    "duration": 9,
    "start_time": "2021-11-17T09:23:12.592Z"
   },
   {
    "duration": 17,
    "start_time": "2021-11-17T09:23:12.967Z"
   },
   {
    "duration": 7,
    "start_time": "2021-11-17T09:23:13.543Z"
   },
   {
    "duration": 16,
    "start_time": "2021-11-17T09:23:14.114Z"
   },
   {
    "duration": 12,
    "start_time": "2021-11-17T09:23:14.867Z"
   },
   {
    "duration": 11,
    "start_time": "2021-11-17T09:23:15.399Z"
   },
   {
    "duration": 7,
    "start_time": "2021-11-17T09:23:16.075Z"
   },
   {
    "duration": 3,
    "start_time": "2021-11-17T09:23:17.538Z"
   },
   {
    "duration": 16,
    "start_time": "2021-11-17T09:23:18.129Z"
   },
   {
    "duration": 13,
    "start_time": "2021-11-17T09:23:18.861Z"
   },
   {
    "duration": 17,
    "start_time": "2021-11-17T09:23:19.386Z"
   },
   {
    "duration": 9,
    "start_time": "2021-11-17T09:23:20.011Z"
   },
   {
    "duration": 18,
    "start_time": "2021-11-17T09:23:20.449Z"
   },
   {
    "duration": 12,
    "start_time": "2021-11-17T09:23:21.627Z"
   },
   {
    "duration": 7,
    "start_time": "2021-11-17T09:24:17.301Z"
   },
   {
    "duration": 20,
    "start_time": "2021-11-17T09:24:18.642Z"
   },
   {
    "duration": 6,
    "start_time": "2021-11-17T09:24:19.470Z"
   },
   {
    "duration": 544,
    "start_time": "2021-11-17T09:24:21.909Z"
   },
   {
    "duration": 168,
    "start_time": "2021-11-17T09:24:22.606Z"
   },
   {
    "duration": 7617,
    "start_time": "2021-11-17T09:24:23.566Z"
   },
   {
    "duration": -925,
    "start_time": "2021-11-17T09:24:32.110Z"
   },
   {
    "duration": 1037,
    "start_time": "2021-11-17T09:26:04.153Z"
   },
   {
    "duration": 46,
    "start_time": "2021-11-17T09:26:05.192Z"
   },
   {
    "duration": 2,
    "start_time": "2021-11-17T09:26:05.240Z"
   },
   {
    "duration": 450,
    "start_time": "2021-11-17T09:26:05.243Z"
   },
   {
    "duration": 14,
    "start_time": "2021-11-17T09:26:05.695Z"
   },
   {
    "duration": 14,
    "start_time": "2021-11-17T09:26:05.710Z"
   },
   {
    "duration": 35,
    "start_time": "2021-11-17T09:26:05.726Z"
   },
   {
    "duration": 7,
    "start_time": "2021-11-17T09:26:05.763Z"
   },
   {
    "duration": 17,
    "start_time": "2021-11-17T09:26:05.772Z"
   },
   {
    "duration": 21,
    "start_time": "2021-11-17T09:26:05.791Z"
   },
   {
    "duration": 16,
    "start_time": "2021-11-17T09:26:05.814Z"
   },
   {
    "duration": 9,
    "start_time": "2021-11-17T09:26:05.831Z"
   },
   {
    "duration": 9,
    "start_time": "2021-11-17T09:26:05.842Z"
   },
   {
    "duration": 11,
    "start_time": "2021-11-17T09:26:05.853Z"
   },
   {
    "duration": 10,
    "start_time": "2021-11-17T09:26:05.866Z"
   },
   {
    "duration": 13,
    "start_time": "2021-11-17T09:26:05.877Z"
   },
   {
    "duration": 10,
    "start_time": "2021-11-17T09:26:05.891Z"
   },
   {
    "duration": 21,
    "start_time": "2021-11-17T09:26:05.903Z"
   },
   {
    "duration": 15,
    "start_time": "2021-11-17T09:26:05.926Z"
   },
   {
    "duration": 8,
    "start_time": "2021-11-17T09:26:05.943Z"
   },
   {
    "duration": 20,
    "start_time": "2021-11-17T09:26:05.952Z"
   },
   {
    "duration": 19,
    "start_time": "2021-11-17T09:26:05.973Z"
   },
   {
    "duration": 17,
    "start_time": "2021-11-17T09:26:05.995Z"
   },
   {
    "duration": 12,
    "start_time": "2021-11-17T09:26:06.014Z"
   },
   {
    "duration": 11,
    "start_time": "2021-11-17T09:26:06.028Z"
   },
   {
    "duration": 6,
    "start_time": "2021-11-17T09:26:06.040Z"
   },
   {
    "duration": 4,
    "start_time": "2021-11-17T09:26:06.047Z"
   },
   {
    "duration": 17,
    "start_time": "2021-11-17T09:26:06.053Z"
   },
   {
    "duration": 10,
    "start_time": "2021-11-17T09:26:06.088Z"
   },
   {
    "duration": 12,
    "start_time": "2021-11-17T09:26:06.100Z"
   },
   {
    "duration": 11,
    "start_time": "2021-11-17T09:26:06.114Z"
   },
   {
    "duration": 16,
    "start_time": "2021-11-17T09:26:06.127Z"
   },
   {
    "duration": 11,
    "start_time": "2021-11-17T09:26:06.145Z"
   },
   {
    "duration": 37,
    "start_time": "2021-11-17T09:26:06.157Z"
   },
   {
    "duration": 14,
    "start_time": "2021-11-17T09:26:06.196Z"
   },
   {
    "duration": 19,
    "start_time": "2021-11-17T09:26:06.212Z"
   },
   {
    "duration": 6,
    "start_time": "2021-11-17T09:26:06.233Z"
   },
   {
    "duration": 78,
    "start_time": "2021-11-17T09:26:06.240Z"
   },
   {
    "duration": 9,
    "start_time": "2021-11-17T09:26:06.319Z"
   },
   {
    "duration": 8,
    "start_time": "2021-11-17T09:26:06.330Z"
   },
   {
    "duration": 28,
    "start_time": "2021-11-17T09:26:06.339Z"
   },
   {
    "duration": 18,
    "start_time": "2021-11-17T09:26:06.369Z"
   },
   {
    "duration": 542,
    "start_time": "2021-11-17T09:26:06.389Z"
   },
   {
    "duration": 174,
    "start_time": "2021-11-17T09:26:06.933Z"
   },
   {
    "duration": 143,
    "start_time": "2021-11-17T09:26:07.109Z"
   },
   {
    "duration": 3,
    "start_time": "2021-11-17T09:26:07.253Z"
   },
   {
    "duration": 394,
    "start_time": "2021-11-17T09:26:07.258Z"
   },
   {
    "duration": 6,
    "start_time": "2021-11-17T09:26:07.653Z"
   },
   {
    "duration": 18,
    "start_time": "2021-11-17T09:26:07.660Z"
   },
   {
    "duration": 124,
    "start_time": "2021-11-17T09:26:20.176Z"
   },
   {
    "duration": 4,
    "start_time": "2021-11-17T09:26:25.083Z"
   },
   {
    "duration": 393,
    "start_time": "2021-11-17T09:26:28.136Z"
   },
   {
    "duration": 4,
    "start_time": "2021-11-17T09:27:04.647Z"
   },
   {
    "duration": 393,
    "start_time": "2021-11-17T09:27:12.171Z"
   },
   {
    "duration": 5,
    "start_time": "2021-11-17T09:33:11.941Z"
   },
   {
    "duration": 349,
    "start_time": "2021-11-17T09:33:13.625Z"
   },
   {
    "duration": 402,
    "start_time": "2021-11-17T09:33:16.667Z"
   },
   {
    "duration": 351,
    "start_time": "2021-11-17T09:33:19.493Z"
   },
   {
    "duration": 567,
    "start_time": "2021-11-17T09:33:21.785Z"
   },
   {
    "duration": 333,
    "start_time": "2021-11-17T09:33:24.712Z"
   },
   {
    "duration": 4,
    "start_time": "2021-11-17T09:33:26.353Z"
   },
   {
    "duration": 411,
    "start_time": "2021-11-17T09:33:38.755Z"
   },
   {
    "duration": 5,
    "start_time": "2021-11-17T09:33:42.088Z"
   },
   {
    "duration": 4,
    "start_time": "2021-11-17T09:33:43.477Z"
   },
   {
    "duration": 5,
    "start_time": "2021-11-17T09:33:46.757Z"
   },
   {
    "duration": 5,
    "start_time": "2021-11-17T09:33:48.938Z"
   },
   {
    "duration": 4,
    "start_time": "2021-11-17T09:33:50.458Z"
   },
   {
    "duration": 9,
    "start_time": "2021-11-17T09:33:54.528Z"
   },
   {
    "duration": 15,
    "start_time": "2021-11-17T09:33:56.135Z"
   },
   {
    "duration": 5,
    "start_time": "2021-11-17T09:34:02.828Z"
   },
   {
    "duration": 5,
    "start_time": "2021-11-17T09:34:03.700Z"
   },
   {
    "duration": 7,
    "start_time": "2021-11-17T09:34:04.402Z"
   },
   {
    "duration": 3,
    "start_time": "2021-11-17T09:34:05.529Z"
   },
   {
    "duration": 3,
    "start_time": "2021-11-17T09:34:06.809Z"
   },
   {
    "duration": 4,
    "start_time": "2021-11-17T09:34:07.869Z"
   },
   {
    "duration": 5,
    "start_time": "2021-11-17T09:34:10.120Z"
   },
   {
    "duration": 3,
    "start_time": "2021-11-17T09:34:11.632Z"
   },
   {
    "duration": 4,
    "start_time": "2021-11-17T09:52:53.885Z"
   },
   {
    "duration": 10,
    "start_time": "2021-11-17T09:52:53.891Z"
   },
   {
    "duration": 14,
    "start_time": "2021-11-17T09:52:53.902Z"
   },
   {
    "duration": 505,
    "start_time": "2021-11-17T09:52:53.918Z"
   },
   {
    "duration": 12,
    "start_time": "2021-11-17T09:52:54.424Z"
   },
   {
    "duration": 15,
    "start_time": "2021-11-17T09:52:54.438Z"
   },
   {
    "duration": 30,
    "start_time": "2021-11-17T09:52:54.455Z"
   },
   {
    "duration": 11,
    "start_time": "2021-11-17T09:52:54.487Z"
   },
   {
    "duration": 29,
    "start_time": "2021-11-17T09:52:54.501Z"
   },
   {
    "duration": 22,
    "start_time": "2021-11-17T09:52:54.532Z"
   },
   {
    "duration": 23,
    "start_time": "2021-11-17T09:52:54.556Z"
   },
   {
    "duration": 35,
    "start_time": "2021-11-17T09:52:54.580Z"
   },
   {
    "duration": 36,
    "start_time": "2021-11-17T09:52:54.617Z"
   },
   {
    "duration": 14,
    "start_time": "2021-11-17T09:52:54.655Z"
   },
   {
    "duration": 9,
    "start_time": "2021-11-17T09:53:39.982Z"
   },
   {
    "duration": 10,
    "start_time": "2021-11-17T09:53:41.680Z"
   },
   {
    "duration": 6,
    "start_time": "2021-11-17T09:53:45.517Z"
   },
   {
    "duration": 17,
    "start_time": "2021-11-17T09:53:47.982Z"
   },
   {
    "duration": 17,
    "start_time": "2021-11-17T09:53:50.022Z"
   },
   {
    "duration": 10,
    "start_time": "2021-11-17T09:53:51.253Z"
   },
   {
    "duration": 17,
    "start_time": "2021-11-17T09:53:56.174Z"
   },
   {
    "duration": 7,
    "start_time": "2021-11-17T09:53:56.723Z"
   },
   {
    "duration": 15,
    "start_time": "2021-11-17T09:53:58.844Z"
   },
   {
    "duration": 13,
    "start_time": "2021-11-17T09:53:59.348Z"
   },
   {
    "duration": 12,
    "start_time": "2021-11-17T09:53:59.884Z"
   },
   {
    "duration": 3,
    "start_time": "2021-11-17T09:54:00.485Z"
   },
   {
    "duration": 3,
    "start_time": "2021-11-17T09:54:02.789Z"
   },
   {
    "duration": 24,
    "start_time": "2021-11-17T09:54:03.319Z"
   },
   {
    "duration": 10,
    "start_time": "2021-11-17T09:54:03.838Z"
   },
   {
    "duration": 13,
    "start_time": "2021-11-17T09:54:04.484Z"
   },
   {
    "duration": 7,
    "start_time": "2021-11-17T09:54:05.848Z"
   },
   {
    "duration": 15,
    "start_time": "2021-11-17T09:54:07.935Z"
   },
   {
    "duration": 12,
    "start_time": "2021-11-17T09:54:09.215Z"
   },
   {
    "duration": 11,
    "start_time": "2021-11-17T09:54:11.193Z"
   },
   {
    "duration": 14,
    "start_time": "2021-11-17T09:54:12.611Z"
   },
   {
    "duration": 14,
    "start_time": "2021-11-17T09:54:14.574Z"
   },
   {
    "duration": 5,
    "start_time": "2021-11-17T09:55:16.838Z"
   },
   {
    "duration": 65,
    "start_time": "2021-11-17T09:55:19.092Z"
   },
   {
    "duration": 11,
    "start_time": "2021-11-17T09:55:20.711Z"
   },
   {
    "duration": 8,
    "start_time": "2021-11-17T09:55:23.061Z"
   },
   {
    "duration": 25,
    "start_time": "2021-11-17T09:55:24.687Z"
   },
   {
    "duration": 6,
    "start_time": "2021-11-17T09:55:26.543Z"
   },
   {
    "duration": 607,
    "start_time": "2021-11-17T09:55:27.997Z"
   },
   {
    "duration": 162,
    "start_time": "2021-11-17T09:55:30.839Z"
   },
   {
    "duration": 131,
    "start_time": "2021-11-17T09:55:33.113Z"
   },
   {
    "duration": 4,
    "start_time": "2021-11-17T09:55:36.015Z"
   },
   {
    "duration": 389,
    "start_time": "2021-11-17T09:55:37.965Z"
   },
   {
    "duration": 472,
    "start_time": "2021-11-17T09:55:51.869Z"
   },
   {
    "duration": 7,
    "start_time": "2021-11-17T09:55:55.024Z"
   },
   {
    "duration": 8,
    "start_time": "2021-11-17T09:55:57.110Z"
   },
   {
    "duration": 202,
    "start_time": "2021-11-17T09:55:59.809Z"
   },
   {
    "duration": 4,
    "start_time": "2021-11-17T09:56:04.113Z"
   },
   {
    "duration": 6,
    "start_time": "2021-11-17T09:56:36.720Z"
   },
   {
    "duration": 381,
    "start_time": "2021-11-17T09:56:39.530Z"
   },
   {
    "duration": 412,
    "start_time": "2021-11-17T09:56:42.037Z"
   },
   {
    "duration": 357,
    "start_time": "2021-11-17T09:56:44.684Z"
   },
   {
    "duration": 566,
    "start_time": "2021-11-17T09:56:46.868Z"
   },
   {
    "duration": 405,
    "start_time": "2021-11-17T09:56:49.248Z"
   },
   {
    "duration": 5,
    "start_time": "2021-11-17T09:56:51.555Z"
   },
   {
    "duration": 4,
    "start_time": "2021-11-17T09:56:52.630Z"
   },
   {
    "duration": 5,
    "start_time": "2021-11-17T09:56:53.289Z"
   },
   {
    "duration": 5,
    "start_time": "2021-11-17T09:56:54.172Z"
   },
   {
    "duration": 3,
    "start_time": "2021-11-17T09:56:55.219Z"
   },
   {
    "duration": 8,
    "start_time": "2021-11-17T09:56:56.850Z"
   },
   {
    "duration": 14,
    "start_time": "2021-11-17T09:56:58.395Z"
   },
   {
    "duration": 6,
    "start_time": "2021-11-17T09:57:00.123Z"
   },
   {
    "duration": 4,
    "start_time": "2021-11-17T09:57:01.036Z"
   },
   {
    "duration": 9,
    "start_time": "2021-11-17T09:57:01.739Z"
   },
   {
    "duration": 3,
    "start_time": "2021-11-17T09:57:02.409Z"
   },
   {
    "duration": 2,
    "start_time": "2021-11-17T09:57:03.106Z"
   },
   {
    "duration": 5,
    "start_time": "2021-11-17T09:57:04.481Z"
   },
   {
    "duration": 5,
    "start_time": "2021-11-17T09:57:05.680Z"
   },
   {
    "duration": 4,
    "start_time": "2021-11-17T09:57:06.645Z"
   },
   {
    "duration": 1037,
    "start_time": "2021-11-17T10:58:19.185Z"
   },
   {
    "duration": 47,
    "start_time": "2021-11-17T10:58:20.223Z"
   },
   {
    "duration": 2,
    "start_time": "2021-11-17T10:58:20.272Z"
   },
   {
    "duration": 448,
    "start_time": "2021-11-17T10:58:20.276Z"
   },
   {
    "duration": 14,
    "start_time": "2021-11-17T10:58:20.725Z"
   },
   {
    "duration": 9,
    "start_time": "2021-11-17T10:58:20.741Z"
   },
   {
    "duration": 16,
    "start_time": "2021-11-17T10:58:20.752Z"
   },
   {
    "duration": 7,
    "start_time": "2021-11-17T10:58:20.769Z"
   },
   {
    "duration": 15,
    "start_time": "2021-11-17T10:58:20.779Z"
   },
   {
    "duration": 11,
    "start_time": "2021-11-17T10:58:20.796Z"
   },
   {
    "duration": 19,
    "start_time": "2021-11-17T10:58:20.808Z"
   },
   {
    "duration": 10,
    "start_time": "2021-11-17T10:58:20.828Z"
   },
   {
    "duration": 7,
    "start_time": "2021-11-17T10:58:20.839Z"
   },
   {
    "duration": 6,
    "start_time": "2021-11-17T10:58:20.847Z"
   },
   {
    "duration": 9,
    "start_time": "2021-11-17T10:58:20.854Z"
   },
   {
    "duration": 31,
    "start_time": "2021-11-17T10:58:20.865Z"
   },
   {
    "duration": 7,
    "start_time": "2021-11-17T10:58:20.897Z"
   },
   {
    "duration": 29,
    "start_time": "2021-11-17T10:58:20.906Z"
   },
   {
    "duration": 15,
    "start_time": "2021-11-17T10:58:20.937Z"
   },
   {
    "duration": 34,
    "start_time": "2021-11-17T10:58:20.954Z"
   },
   {
    "duration": 17,
    "start_time": "2021-11-17T10:58:20.990Z"
   },
   {
    "duration": 11,
    "start_time": "2021-11-17T10:58:21.009Z"
   },
   {
    "duration": 27,
    "start_time": "2021-11-17T10:58:21.022Z"
   },
   {
    "duration": 14,
    "start_time": "2021-11-17T10:58:21.051Z"
   },
   {
    "duration": 11,
    "start_time": "2021-11-17T10:58:21.066Z"
   },
   {
    "duration": 10,
    "start_time": "2021-11-17T10:58:21.079Z"
   },
   {
    "duration": 12,
    "start_time": "2021-11-17T10:58:21.093Z"
   },
   {
    "duration": 27,
    "start_time": "2021-11-17T10:58:21.107Z"
   },
   {
    "duration": 11,
    "start_time": "2021-11-17T10:58:21.135Z"
   },
   {
    "duration": 12,
    "start_time": "2021-11-17T10:58:21.148Z"
   },
   {
    "duration": 10,
    "start_time": "2021-11-17T10:58:21.162Z"
   },
   {
    "duration": 28,
    "start_time": "2021-11-17T10:58:21.174Z"
   },
   {
    "duration": 14,
    "start_time": "2021-11-17T10:58:21.204Z"
   },
   {
    "duration": 18,
    "start_time": "2021-11-17T10:58:21.220Z"
   },
   {
    "duration": 16,
    "start_time": "2021-11-17T10:58:21.239Z"
   },
   {
    "duration": 17,
    "start_time": "2021-11-17T10:58:21.256Z"
   },
   {
    "duration": 6,
    "start_time": "2021-11-17T10:58:21.274Z"
   },
   {
    "duration": 78,
    "start_time": "2021-11-17T10:58:21.282Z"
   },
   {
    "duration": 9,
    "start_time": "2021-11-17T10:58:21.362Z"
   },
   {
    "duration": 9,
    "start_time": "2021-11-17T10:58:21.373Z"
   },
   {
    "duration": 23,
    "start_time": "2021-11-17T10:58:21.387Z"
   },
   {
    "duration": 5,
    "start_time": "2021-11-17T10:58:21.412Z"
   },
   {
    "duration": 567,
    "start_time": "2021-11-17T10:58:21.419Z"
   },
   {
    "duration": 177,
    "start_time": "2021-11-17T10:58:21.988Z"
   },
   {
    "duration": 144,
    "start_time": "2021-11-17T10:58:22.166Z"
   },
   {
    "duration": 3,
    "start_time": "2021-11-17T10:58:22.312Z"
   },
   {
    "duration": 402,
    "start_time": "2021-11-17T10:58:22.317Z"
   },
   {
    "duration": 6,
    "start_time": "2021-11-17T10:58:22.721Z"
   },
   {
    "duration": 9,
    "start_time": "2021-11-17T10:58:22.728Z"
   },
   {
    "duration": 154,
    "start_time": "2021-11-17T10:58:22.738Z"
   },
   {
    "duration": 4,
    "start_time": "2021-11-17T10:58:22.894Z"
   },
   {
    "duration": 5,
    "start_time": "2021-11-17T10:58:22.900Z"
   },
   {
    "duration": 697,
    "start_time": "2021-11-17T10:58:22.907Z"
   },
   {
    "duration": 712,
    "start_time": "2021-11-17T10:58:23.606Z"
   },
   {
    "duration": 626,
    "start_time": "2021-11-17T10:58:24.319Z"
   },
   {
    "duration": 1062,
    "start_time": "2021-11-17T10:59:30.999Z"
   },
   {
    "duration": 51,
    "start_time": "2021-11-17T10:59:32.063Z"
   },
   {
    "duration": 2,
    "start_time": "2021-11-17T10:59:32.116Z"
   },
   {
    "duration": 458,
    "start_time": "2021-11-17T10:59:32.120Z"
   },
   {
    "duration": 24,
    "start_time": "2021-11-17T10:59:32.579Z"
   },
   {
    "duration": 7,
    "start_time": "2021-11-17T10:59:32.605Z"
   },
   {
    "duration": 19,
    "start_time": "2021-11-17T10:59:32.614Z"
   },
   {
    "duration": 7,
    "start_time": "2021-11-17T10:59:32.635Z"
   },
   {
    "duration": 10,
    "start_time": "2021-11-17T10:59:32.644Z"
   },
   {
    "duration": 7,
    "start_time": "2021-11-17T10:59:32.656Z"
   },
   {
    "duration": 31,
    "start_time": "2021-11-17T10:59:32.664Z"
   },
   {
    "duration": 10,
    "start_time": "2021-11-17T10:59:32.697Z"
   },
   {
    "duration": 7,
    "start_time": "2021-11-17T10:59:32.708Z"
   },
   {
    "duration": 7,
    "start_time": "2021-11-17T10:59:32.716Z"
   },
   {
    "duration": 10,
    "start_time": "2021-11-17T10:59:32.724Z"
   },
   {
    "duration": 12,
    "start_time": "2021-11-17T10:59:32.735Z"
   },
   {
    "duration": 8,
    "start_time": "2021-11-17T10:59:32.749Z"
   },
   {
    "duration": 52,
    "start_time": "2021-11-17T10:59:32.759Z"
   },
   {
    "duration": 16,
    "start_time": "2021-11-17T10:59:32.812Z"
   },
   {
    "duration": 8,
    "start_time": "2021-11-17T10:59:32.829Z"
   },
   {
    "duration": 22,
    "start_time": "2021-11-17T10:59:32.839Z"
   },
   {
    "duration": 6,
    "start_time": "2021-11-17T10:59:32.863Z"
   },
   {
    "duration": 37,
    "start_time": "2021-11-17T10:59:32.873Z"
   },
   {
    "duration": 12,
    "start_time": "2021-11-17T10:59:32.912Z"
   },
   {
    "duration": 11,
    "start_time": "2021-11-17T10:59:32.926Z"
   },
   {
    "duration": 4,
    "start_time": "2021-11-17T10:59:32.938Z"
   },
   {
    "duration": 4,
    "start_time": "2021-11-17T10:59:32.943Z"
   },
   {
    "duration": 48,
    "start_time": "2021-11-17T10:59:32.948Z"
   },
   {
    "duration": 11,
    "start_time": "2021-11-17T10:59:33.000Z"
   },
   {
    "duration": 12,
    "start_time": "2021-11-17T10:59:33.012Z"
   },
   {
    "duration": 7,
    "start_time": "2021-11-17T10:59:33.025Z"
   },
   {
    "duration": 14,
    "start_time": "2021-11-17T10:59:33.033Z"
   },
   {
    "duration": 10,
    "start_time": "2021-11-17T10:59:33.048Z"
   },
   {
    "duration": 35,
    "start_time": "2021-11-17T10:59:33.059Z"
   },
   {
    "duration": 14,
    "start_time": "2021-11-17T10:59:33.096Z"
   },
   {
    "duration": 15,
    "start_time": "2021-11-17T10:59:33.112Z"
   },
   {
    "duration": 4,
    "start_time": "2021-11-17T10:59:33.128Z"
   },
   {
    "duration": 90,
    "start_time": "2021-11-17T10:59:33.134Z"
   },
   {
    "duration": 9,
    "start_time": "2021-11-17T10:59:33.225Z"
   },
   {
    "duration": 8,
    "start_time": "2021-11-17T10:59:33.235Z"
   },
   {
    "duration": 22,
    "start_time": "2021-11-17T10:59:33.244Z"
   },
   {
    "duration": 33,
    "start_time": "2021-11-17T10:59:33.268Z"
   },
   {
    "duration": 554,
    "start_time": "2021-11-17T10:59:33.303Z"
   },
   {
    "duration": 174,
    "start_time": "2021-11-17T10:59:33.858Z"
   },
   {
    "duration": 145,
    "start_time": "2021-11-17T10:59:34.033Z"
   },
   {
    "duration": 7,
    "start_time": "2021-11-17T10:59:34.180Z"
   },
   {
    "duration": 447,
    "start_time": "2021-11-17T10:59:34.188Z"
   },
   {
    "duration": 7,
    "start_time": "2021-11-17T10:59:34.636Z"
   },
   {
    "duration": 14,
    "start_time": "2021-11-17T10:59:34.644Z"
   },
   {
    "duration": 142,
    "start_time": "2021-11-17T10:59:34.660Z"
   },
   {
    "duration": 4,
    "start_time": "2021-11-17T10:59:34.803Z"
   },
   {
    "duration": 7,
    "start_time": "2021-11-17T10:59:34.809Z"
   },
   {
    "duration": 425,
    "start_time": "2021-11-17T10:59:34.817Z"
   },
   {
    "duration": 402,
    "start_time": "2021-11-17T10:59:35.244Z"
   },
   {
    "duration": 356,
    "start_time": "2021-11-17T10:59:35.648Z"
   },
   {
    "duration": 491,
    "start_time": "2021-11-17T10:59:36.006Z"
   },
   {
    "duration": 401,
    "start_time": "2021-11-17T10:59:36.498Z"
   },
   {
    "duration": 4,
    "start_time": "2021-11-17T10:59:36.901Z"
   },
   {
    "duration": 6,
    "start_time": "2021-11-17T10:59:36.906Z"
   },
   {
    "duration": 9,
    "start_time": "2021-11-17T10:59:36.913Z"
   },
   {
    "duration": 5,
    "start_time": "2021-11-17T10:59:36.923Z"
   },
   {
    "duration": 6,
    "start_time": "2021-11-17T10:59:36.930Z"
   },
   {
    "duration": 13,
    "start_time": "2021-11-17T10:59:36.938Z"
   },
   {
    "duration": 16,
    "start_time": "2021-11-17T10:59:36.952Z"
   },
   {
    "duration": 93,
    "start_time": "2021-11-17T10:59:36.969Z"
   },
   {
    "duration": 3,
    "start_time": "2021-11-17T10:59:37.064Z"
   },
   {
    "duration": 21,
    "start_time": "2021-11-17T10:59:37.069Z"
   },
   {
    "duration": 2,
    "start_time": "2021-11-17T10:59:37.095Z"
   },
   {
    "duration": 4,
    "start_time": "2021-11-17T10:59:37.099Z"
   },
   {
    "duration": 10,
    "start_time": "2021-11-17T10:59:37.104Z"
   },
   {
    "duration": 7,
    "start_time": "2021-11-17T10:59:37.116Z"
   },
   {
    "duration": 5,
    "start_time": "2021-11-17T10:59:37.124Z"
   },
   {
    "duration": 1503,
    "start_time": "2021-11-17T21:53:41.643Z"
   },
   {
    "duration": 88,
    "start_time": "2021-11-17T21:53:43.149Z"
   },
   {
    "duration": 3,
    "start_time": "2021-11-17T21:53:43.240Z"
   },
   {
    "duration": 611,
    "start_time": "2021-11-17T21:53:43.246Z"
   },
   {
    "duration": 24,
    "start_time": "2021-11-17T21:53:43.860Z"
   },
   {
    "duration": 14,
    "start_time": "2021-11-17T21:53:43.887Z"
   },
   {
    "duration": 25,
    "start_time": "2021-11-17T21:53:43.904Z"
   },
   {
    "duration": 44,
    "start_time": "2021-11-17T21:53:43.933Z"
   },
   {
    "duration": 20,
    "start_time": "2021-11-17T21:53:43.981Z"
   },
   {
    "duration": 14,
    "start_time": "2021-11-17T21:53:44.004Z"
   },
   {
    "duration": 64,
    "start_time": "2021-11-17T21:53:44.021Z"
   },
   {
    "duration": 12,
    "start_time": "2021-11-17T21:53:44.088Z"
   },
   {
    "duration": 12,
    "start_time": "2021-11-17T21:53:44.103Z"
   },
   {
    "duration": 6,
    "start_time": "2021-11-17T21:53:44.118Z"
   },
   {
    "duration": 54,
    "start_time": "2021-11-17T21:53:44.127Z"
   },
   {
    "duration": 26,
    "start_time": "2021-11-17T21:53:44.184Z"
   },
   {
    "duration": 13,
    "start_time": "2021-11-17T21:53:44.213Z"
   },
   {
    "duration": 58,
    "start_time": "2021-11-17T21:53:44.229Z"
   },
   {
    "duration": 27,
    "start_time": "2021-11-17T21:53:44.289Z"
   },
   {
    "duration": 16,
    "start_time": "2021-11-17T21:53:44.318Z"
   },
   {
    "duration": 62,
    "start_time": "2021-11-17T21:53:44.337Z"
   },
   {
    "duration": 13,
    "start_time": "2021-11-17T21:53:44.402Z"
   },
   {
    "duration": 53,
    "start_time": "2021-11-17T21:53:44.422Z"
   },
   {
    "duration": 18,
    "start_time": "2021-11-17T21:53:44.479Z"
   },
   {
    "duration": 16,
    "start_time": "2021-11-17T21:53:44.500Z"
   },
   {
    "duration": 9,
    "start_time": "2021-11-17T21:53:44.519Z"
   },
   {
    "duration": 37,
    "start_time": "2021-11-17T21:53:44.530Z"
   },
   {
    "duration": 17,
    "start_time": "2021-11-17T21:53:44.570Z"
   },
   {
    "duration": 15,
    "start_time": "2021-11-17T21:53:44.590Z"
   },
   {
    "duration": 21,
    "start_time": "2021-11-17T21:53:44.608Z"
   },
   {
    "duration": 41,
    "start_time": "2021-11-17T21:53:44.631Z"
   },
   {
    "duration": 43,
    "start_time": "2021-11-17T21:53:44.676Z"
   },
   {
    "duration": 52,
    "start_time": "2021-11-17T21:53:44.722Z"
   },
   {
    "duration": 17,
    "start_time": "2021-11-17T21:53:44.778Z"
   },
   {
    "duration": 24,
    "start_time": "2021-11-17T21:53:44.798Z"
   },
   {
    "duration": 69,
    "start_time": "2021-11-17T21:53:44.826Z"
   },
   {
    "duration": 12,
    "start_time": "2021-11-17T21:53:44.899Z"
   },
   {
    "duration": 244,
    "start_time": "2021-11-17T21:53:44.915Z"
   },
   {
    "duration": 22,
    "start_time": "2021-11-17T21:53:45.162Z"
   },
   {
    "duration": 11,
    "start_time": "2021-11-17T21:53:45.187Z"
   },
   {
    "duration": 88,
    "start_time": "2021-11-17T21:53:45.201Z"
   },
   {
    "duration": 10,
    "start_time": "2021-11-17T21:53:45.292Z"
   },
   {
    "duration": 1013,
    "start_time": "2021-11-17T21:53:45.305Z"
   },
   {
    "duration": 332,
    "start_time": "2021-11-17T21:53:46.320Z"
   },
   {
    "duration": 261,
    "start_time": "2021-11-17T21:53:46.654Z"
   },
   {
    "duration": 5,
    "start_time": "2021-11-17T21:53:46.917Z"
   },
   {
    "duration": 744,
    "start_time": "2021-11-17T21:53:46.925Z"
   },
   {
    "duration": 10,
    "start_time": "2021-11-17T21:53:47.671Z"
   },
   {
    "duration": 12,
    "start_time": "2021-11-17T21:53:47.683Z"
   },
   {
    "duration": 272,
    "start_time": "2021-11-17T21:53:47.697Z"
   },
   {
    "duration": 5,
    "start_time": "2021-11-17T21:53:47.972Z"
   },
   {
    "duration": 6,
    "start_time": "2021-11-17T21:53:47.980Z"
   },
   {
    "duration": 770,
    "start_time": "2021-11-17T21:53:47.989Z"
   },
   {
    "duration": 886,
    "start_time": "2021-11-17T21:53:48.768Z"
   },
   {
    "duration": 696,
    "start_time": "2021-11-17T21:53:49.657Z"
   },
   {
    "duration": 965,
    "start_time": "2021-11-17T21:53:50.356Z"
   },
   {
    "duration": 816,
    "start_time": "2021-11-17T21:53:51.324Z"
   },
   {
    "duration": 7,
    "start_time": "2021-11-17T21:53:52.143Z"
   },
   {
    "duration": 15,
    "start_time": "2021-11-17T21:53:52.153Z"
   },
   {
    "duration": 16,
    "start_time": "2021-11-17T21:53:52.171Z"
   },
   {
    "duration": 9,
    "start_time": "2021-11-17T21:53:52.189Z"
   },
   {
    "duration": 6,
    "start_time": "2021-11-17T21:53:52.201Z"
   },
   {
    "duration": 62,
    "start_time": "2021-11-17T21:53:52.209Z"
   },
   {
    "duration": 133,
    "start_time": "2021-11-17T21:53:52.273Z"
   },
   {
    "duration": 6,
    "start_time": "2021-11-17T21:53:52.409Z"
   },
   {
    "duration": 13,
    "start_time": "2021-11-17T21:53:52.418Z"
   },
   {
    "duration": 17,
    "start_time": "2021-11-17T21:53:52.433Z"
   },
   {
    "duration": 4,
    "start_time": "2021-11-17T21:53:52.471Z"
   },
   {
    "duration": 12,
    "start_time": "2021-11-17T21:53:52.478Z"
   },
   {
    "duration": 14,
    "start_time": "2021-11-17T21:53:52.492Z"
   },
   {
    "duration": 15,
    "start_time": "2021-11-17T21:53:52.508Z"
   },
   {
    "duration": 12,
    "start_time": "2021-11-17T21:53:52.525Z"
   },
   {
    "duration": 11,
    "start_time": "2021-11-17T21:59:42.924Z"
   },
   {
    "duration": 25,
    "start_time": "2021-11-17T21:59:54.458Z"
   },
   {
    "duration": 11,
    "start_time": "2021-11-17T22:00:09.111Z"
   },
   {
    "duration": 22,
    "start_time": "2021-11-17T22:00:21.400Z"
   },
   {
    "duration": 20,
    "start_time": "2021-11-17T22:02:10.883Z"
   },
   {
    "duration": 17,
    "start_time": "2021-11-17T22:10:12.563Z"
   },
   {
    "duration": 596,
    "start_time": "2021-11-17T22:10:30.822Z"
   },
   {
    "duration": 15,
    "start_time": "2021-11-17T22:10:35.388Z"
   },
   {
    "duration": 16,
    "start_time": "2021-11-17T22:12:34.955Z"
   }
  ],
  "kernelspec": {
   "display_name": "Python 3",
   "language": "python",
   "name": "python3"
  },
  "language_info": {
   "codemirror_mode": {
    "name": "ipython",
    "version": 3
   },
   "file_extension": ".py",
   "mimetype": "text/x-python",
   "name": "python",
   "nbconvert_exporter": "python",
   "pygments_lexer": "ipython3",
   "version": "3.8.8"
  },
  "toc": {
   "base_numbering": 1,
   "nav_menu": {},
   "number_sections": true,
   "sideBar": true,
   "skip_h1_title": true,
   "title_cell": "Table of Contents",
   "title_sidebar": "Contents",
   "toc_cell": false,
   "toc_position": {},
   "toc_section_display": true,
   "toc_window_display": false
  }
 },
 "nbformat": 4,
 "nbformat_minor": 5
}
